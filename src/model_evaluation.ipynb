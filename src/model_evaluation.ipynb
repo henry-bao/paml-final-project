{
 "cells": [
  {
   "cell_type": "code",
   "execution_count": 18,
   "id": "9df7e414",
   "metadata": {},
   "outputs": [],
   "source": [
    "from joblib import load\n",
    "from sklearn.metrics import classification_report, confusion_matrix, roc_curve, auc\n",
    "import matplotlib.pyplot as plt\n",
    "import pandas as pd\n",
    "from sklearn.model_selection import train_test_split\n",
    "import seaborn as sns\n",
    "import numpy as np"
   ]
  },
  {
   "cell_type": "code",
   "execution_count": 2,
   "id": "900e20cb",
   "metadata": {},
   "outputs": [
    {
     "name": "stdout",
     "output_type": "stream",
     "text": [
      "<class 'pandas.core.frame.DataFrame'>\n",
      "RangeIndex: 127862 entries, 0 to 127861\n",
      "Data columns (total 46 columns):\n",
      " #   Column                 Non-Null Count   Dtype  \n",
      "---  ------                 --------------   -----  \n",
      " 0   Severity               127862 non-null  int64  \n",
      " 1   Start_Lat              127862 non-null  float64\n",
      " 2   Start_Lng              127862 non-null  float64\n",
      " 3   Street                 127862 non-null  object \n",
      " 4   City                   127862 non-null  object \n",
      " 5   County                 127862 non-null  object \n",
      " 6   State                  127862 non-null  object \n",
      " 7   Zipcode                127862 non-null  object \n",
      " 8   Timezone               127862 non-null  object \n",
      " 9   Airport_Code           127862 non-null  object \n",
      " 10  Temperature(F)         127862 non-null  float64\n",
      " 11  Humidity(%)            127862 non-null  float64\n",
      " 12  Pressure(in)           127862 non-null  float64\n",
      " 13  Visibility(mi)         127862 non-null  float64\n",
      " 14  Wind_Direction         127862 non-null  object \n",
      " 15  Wind_Speed(mph)        127862 non-null  float64\n",
      " 16  Precipitation(in)      127862 non-null  float64\n",
      " 17  Amenity                127862 non-null  bool   \n",
      " 18  Bump                   127862 non-null  bool   \n",
      " 19  Crossing               127862 non-null  bool   \n",
      " 20  Give_Way               127862 non-null  bool   \n",
      " 21  Junction               127862 non-null  bool   \n",
      " 22  No_Exit                127862 non-null  bool   \n",
      " 23  Railway                127862 non-null  bool   \n",
      " 24  Roundabout             127862 non-null  bool   \n",
      " 25  Station                127862 non-null  bool   \n",
      " 26  Stop                   127862 non-null  bool   \n",
      " 27  Traffic_Calming        127862 non-null  bool   \n",
      " 28  Traffic_Signal         127862 non-null  bool   \n",
      " 29  Sunrise_Sunset         127862 non-null  object \n",
      " 30  Civil_Twilight         127862 non-null  object \n",
      " 31  Nautical_Twilight      127862 non-null  object \n",
      " 32  Astronomical_Twilight  127862 non-null  object \n",
      " 33  Clear                  127862 non-null  bool   \n",
      " 34  Cloud                  127862 non-null  bool   \n",
      " 35  Rain                   127862 non-null  bool   \n",
      " 36  Heavy_Rain             127862 non-null  bool   \n",
      " 37  Snow                   127862 non-null  bool   \n",
      " 38  Heavy_Snow             127862 non-null  bool   \n",
      " 39  Fog                    127862 non-null  bool   \n",
      " 40  Year                   127862 non-null  int64  \n",
      " 41  Month                  127862 non-null  int64  \n",
      " 42  Day                    127862 non-null  int64  \n",
      " 43  Hour                   127862 non-null  int64  \n",
      " 44  Minute                 127862 non-null  float64\n",
      " 45  Precipitation_NA       127862 non-null  int64  \n",
      "dtypes: bool(19), float64(9), int64(6), object(12)\n",
      "memory usage: 28.7+ MB\n"
     ]
    }
   ],
   "source": [
    "# Load the data\n",
    "df = pd.read_csv('../data/US_Accidents_March23_cleaned.csv')\n",
    "df.info()"
   ]
  },
  {
   "cell_type": "code",
   "execution_count": 23,
   "id": "d0597606-0e89-4180-a001-49daa82b7ed3",
   "metadata": {},
   "outputs": [],
   "source": [
    "class DecisionTree:\n",
    "    def __init__(self, max_depth=None):\n",
    "        self.max_depth = max_depth\n",
    "\n",
    "    def fit(self, X, y):\n",
    "        self.tree = self._build_tree(X, y)\n",
    "\n",
    "    def predict(self, X):\n",
    "        return np.array([self._traverse_tree(x, self.tree) for x in X])\n",
    "\n",
    "    def _build_tree(self, X, y, depth=0):\n",
    "        num_labels = len(np.unique(y))\n",
    "\n",
    "        # Base cases\n",
    "        if depth == self.max_depth or num_labels == 1:\n",
    "            return np.argmax(np.bincount(y))\n",
    "\n",
    "        best_feature, best_threshold = self._find_best_split(X, y)\n",
    "\n",
    "        # Split the data\n",
    "        left_indices = X[:, best_feature] <= best_threshold\n",
    "        right_indices = X[:, best_feature] > best_threshold\n",
    "\n",
    "        left_tree = self._build_tree(X[left_indices], y[left_indices], depth + 1)\n",
    "        right_tree = self._build_tree(X[right_indices], y[right_indices], depth + 1)\n",
    "\n",
    "        return {'feature': best_feature, 'threshold': best_threshold,\n",
    "                'left': left_tree, 'right': right_tree}\n",
    "\n",
    "    def _find_best_split(self, X, y):\n",
    "        best_gain = 0\n",
    "        best_feature = None\n",
    "        best_threshold = None\n",
    "\n",
    "        _, num_features = X.shape\n",
    "\n",
    "        for feature in range(num_features):\n",
    "            thresholds = np.unique(X[:, feature])\n",
    "\n",
    "            for threshold in thresholds:\n",
    "                gain = self._calculate_gain(X, y, feature, threshold)\n",
    "\n",
    "                if gain > best_gain:\n",
    "                    best_gain = gain\n",
    "                    best_feature = feature\n",
    "                    best_threshold = threshold\n",
    "\n",
    "        return best_feature, best_threshold\n",
    "\n",
    "    def _calculate_gain(self, X, y, feature, threshold):\n",
    "        parent_entropy = self._calculate_entropy(y)\n",
    "\n",
    "        left_indices = X[:, feature] <= threshold\n",
    "        right_indices = X[:, feature] > threshold\n",
    "\n",
    "        left_entropy = self._calculate_entropy(y[left_indices])\n",
    "        right_entropy = self._calculate_entropy(y[right_indices])\n",
    "\n",
    "        num_left = len(y[left_indices])\n",
    "        num_right = len(y[right_indices])\n",
    "        total_samples = num_left + num_right\n",
    "\n",
    "        gain = parent_entropy - ((num_left / total_samples) * left_entropy) - ((num_right / total_samples) * right_entropy)\n",
    "\n",
    "        return gain\n",
    "\n",
    "    def _calculate_entropy(self, y):\n",
    "        _, counts = np.unique(y, return_counts=True)\n",
    "        probabilities = counts / len(y)\n",
    "        entropy = -np.sum(probabilities * np.log2(probabilities + 1e-10))\n",
    "\n",
    "        return entropy\n",
    "\n",
    "    def _traverse_tree(self, x, tree):\n",
    "        if isinstance(tree, dict):\n",
    "            feature = tree['feature']\n",
    "            threshold = tree['threshold']\n",
    "\n",
    "            if x[feature] <= threshold:\n",
    "                return self._traverse_tree(x, tree['left'])\n",
    "            else:\n",
    "                return self._traverse_tree(x, tree['right'])\n",
    "        else:\n",
    "            return tree"
   ]
  },
  {
   "cell_type": "code",
   "execution_count": 16,
   "id": "1a0e2d17",
   "metadata": {},
   "outputs": [],
   "source": [
    "# Load the models\n",
    "rf_model = load('../models/random_forest_model.pkl')\n",
    "dt_model = load('../models/decision_tree_model.pkl')"
   ]
  },
  {
   "cell_type": "code",
   "execution_count": 6,
   "id": "9523c769",
   "metadata": {},
   "outputs": [
    {
     "data": {
      "text/plain": [
       "(((102289, 8126), (102289,)), ((25573, 8126), (25573,)))"
      ]
     },
     "execution_count": 6,
     "metadata": {},
     "output_type": "execute_result"
    }
   ],
   "source": [
    "df = df.drop(['Zipcode', 'Airport_Code','Street'], axis=1)\n",
    "df_dummy = pd.get_dummies(df, drop_first=True)\n",
    "\n",
    "target='Severity'\n",
    "\n",
    "y = df_dummy[target]\n",
    "X = df_dummy.drop(target, axis=1)\n",
    "\n",
    "X_train, X_test, y_train, y_test = train_test_split(X, y, test_size=0.2, random_state=43)\n",
    "(X_train.shape, y_train.shape), (X_test.shape, y_test.shape)"
   ]
  },
  {
   "cell_type": "code",
   "execution_count": 22,
   "id": "08a29593",
   "metadata": {},
   "outputs": [
    {
     "ename": "IndexError",
     "evalue": "string index out of range",
     "output_type": "error",
     "traceback": [
      "\u001b[0;31m---------------------------------------------------------------------------\u001b[0m",
      "\u001b[0;31mIndexError\u001b[0m                                Traceback (most recent call last)",
      "Cell \u001b[0;32mIn[22], line 5\u001b[0m\n\u001b[1;32m      2\u001b[0m y_pred_rf \u001b[38;5;241m=\u001b[39m rf_model\u001b[38;5;241m.\u001b[39mpredict(X_test)\n\u001b[1;32m      3\u001b[0m y_proba_rf \u001b[38;5;241m=\u001b[39m rf_model\u001b[38;5;241m.\u001b[39mpredict_proba(X_test)[:, \u001b[38;5;241m1\u001b[39m]\n\u001b[0;32m----> 5\u001b[0m y_pred_dt \u001b[38;5;241m=\u001b[39m \u001b[43mdt_model\u001b[49m\u001b[38;5;241;43m.\u001b[39;49m\u001b[43mpredict\u001b[49m\u001b[43m(\u001b[49m\u001b[43mX_test\u001b[49m\u001b[43m)\u001b[49m\n\u001b[1;32m      6\u001b[0m y_proba_dt \u001b[38;5;241m=\u001b[39m dt_model\u001b[38;5;241m.\u001b[39mpredict_proba(X_test)[:, \u001b[38;5;241m1\u001b[39m]\n",
      "Cell \u001b[0;32mIn[15], line 9\u001b[0m, in \u001b[0;36mDecisionTree.predict\u001b[0;34m(self, X)\u001b[0m\n\u001b[1;32m      8\u001b[0m \u001b[38;5;28;01mdef\u001b[39;00m \u001b[38;5;21mpredict\u001b[39m(\u001b[38;5;28mself\u001b[39m, X):\n\u001b[0;32m----> 9\u001b[0m     \u001b[38;5;28;01mreturn\u001b[39;00m np\u001b[38;5;241m.\u001b[39marray([\u001b[38;5;28mself\u001b[39m\u001b[38;5;241m.\u001b[39m_traverse_tree(x, \u001b[38;5;28mself\u001b[39m\u001b[38;5;241m.\u001b[39mtree) \u001b[38;5;28;01mfor\u001b[39;00m x \u001b[38;5;129;01min\u001b[39;00m X])\n",
      "Cell \u001b[0;32mIn[15], line 9\u001b[0m, in \u001b[0;36m<listcomp>\u001b[0;34m(.0)\u001b[0m\n\u001b[1;32m      8\u001b[0m \u001b[38;5;28;01mdef\u001b[39;00m \u001b[38;5;21mpredict\u001b[39m(\u001b[38;5;28mself\u001b[39m, X):\n\u001b[0;32m----> 9\u001b[0m     \u001b[38;5;28;01mreturn\u001b[39;00m np\u001b[38;5;241m.\u001b[39marray([\u001b[38;5;28;43mself\u001b[39;49m\u001b[38;5;241;43m.\u001b[39;49m\u001b[43m_traverse_tree\u001b[49m\u001b[43m(\u001b[49m\u001b[43mx\u001b[49m\u001b[43m,\u001b[49m\u001b[43m \u001b[49m\u001b[38;5;28;43mself\u001b[39;49m\u001b[38;5;241;43m.\u001b[39;49m\u001b[43mtree\u001b[49m\u001b[43m)\u001b[49m \u001b[38;5;28;01mfor\u001b[39;00m x \u001b[38;5;129;01min\u001b[39;00m X])\n",
      "Cell \u001b[0;32mIn[15], line 79\u001b[0m, in \u001b[0;36mDecisionTree._traverse_tree\u001b[0;34m(self, x, tree)\u001b[0m\n\u001b[1;32m     76\u001b[0m feature \u001b[38;5;241m=\u001b[39m tree[\u001b[38;5;124m'\u001b[39m\u001b[38;5;124mfeature\u001b[39m\u001b[38;5;124m'\u001b[39m]\n\u001b[1;32m     77\u001b[0m threshold \u001b[38;5;241m=\u001b[39m tree[\u001b[38;5;124m'\u001b[39m\u001b[38;5;124mthreshold\u001b[39m\u001b[38;5;124m'\u001b[39m]\n\u001b[0;32m---> 79\u001b[0m \u001b[38;5;28;01mif\u001b[39;00m \u001b[43mx\u001b[49m\u001b[43m[\u001b[49m\u001b[43mfeature\u001b[49m\u001b[43m]\u001b[49m \u001b[38;5;241m<\u001b[39m\u001b[38;5;241m=\u001b[39m threshold:\n\u001b[1;32m     80\u001b[0m     \u001b[38;5;28;01mreturn\u001b[39;00m \u001b[38;5;28mself\u001b[39m\u001b[38;5;241m.\u001b[39m_traverse_tree(x, tree[\u001b[38;5;124m'\u001b[39m\u001b[38;5;124mleft\u001b[39m\u001b[38;5;124m'\u001b[39m])\n\u001b[1;32m     81\u001b[0m \u001b[38;5;28;01melse\u001b[39;00m:\n",
      "\u001b[0;31mIndexError\u001b[0m: string index out of range"
     ]
    }
   ],
   "source": [
    "# Make predictions\n",
    "y_pred_rf = rf_model.predict(X_test)\n",
    "y_proba_rf = rf_model.predict_proba(X_test)[:, 1]\n",
    "\n",
    "y_pred_dt = dt_model.predict(X_test)\n",
    "y_proba_dt = dt_model.predict_proba(X_test)[:, 1]"
   ]
  },
  {
   "cell_type": "code",
   "execution_count": 9,
   "id": "ad9a0714",
   "metadata": {},
   "outputs": [
    {
     "name": "stdout",
     "output_type": "stream",
     "text": [
      "Classification Report for Random Forest Model\n",
      "              precision    recall  f1-score   support\n",
      "\n",
      "           1       0.67      0.02      0.03       234\n",
      "           2       0.82      0.98      0.89     20326\n",
      "           3       0.65      0.22      0.33      4341\n",
      "           4       0.38      0.01      0.02       672\n",
      "\n",
      "    accuracy                           0.81     25573\n",
      "   macro avg       0.63      0.31      0.32     25573\n",
      "weighted avg       0.78      0.81      0.77     25573\n",
      "\n"
     ]
    }
   ],
   "source": [
    "print(\"Classification Report for Random Forest Model\")\n",
    "print(classification_report(y_test_rf, y_pred_rf))\n"
   ]
  },
  {
   "cell_type": "code",
   "execution_count": 13,
   "id": "969efd9e",
   "metadata": {},
   "outputs": [
    {
     "data": {
      "image/png": "[encoded data removed]",
      "text/plain": [
       "<Figure size 1000x700 with 2 Axes>"
      ]
     },
     "metadata": {},
     "output_type": "display_data"
    }
   ],
   "source": [
    "confmat = confusion_matrix(y_true=y_test_rf, y_pred=y_pred_rf)\n",
    "\n",
    "# Adjusting the labels for a 4-class model\n",
    "conf_matrix = pd.DataFrame(data=confmat,\n",
    "                           columns=['Predicted: Class 0', 'Predicted: Class 1', 'Predicted: Class 2', 'Predicted: Class 3'],\n",
    "                           index=['Actual: Class 0', 'Actual: Class 1', 'Actual: Class 2', 'Actual: Class 3'])\n",
    "\n",
    "plt.figure(figsize = (10, 7))  # Adjust the size as needed\n",
    "sns.heatmap(conf_matrix, annot=True, fmt='d', cmap=\"YlGnBu\")\n",
    "plt.title(\"Confusion Matrix - Random Forest\", fontsize=16)  # Adding title\n",
    "plt.show()"
   ]
  },
  {
   "cell_type": "code",
   "execution_count": null,
   "id": "0367cb00",
   "metadata": {},
   "outputs": [],
   "source": []
  }
 ],
 "metadata": {
  "kernelspec": {
   "display_name": "Python (venv)",
   "language": "python",
   "name": "venv"
  },
  "language_info": {
   "codemirror_mode": {
    "name": "ipython",
    "version": 3
   },
   "file_extension": ".py",
   "mimetype": "text/x-python",
   "name": "python",
   "nbconvert_exporter": "python",
   "pygments_lexer": "ipython3",
   "version": "3.8.19"
  }
 },
 "nbformat": 4,
 "nbformat_minor": 5
}
