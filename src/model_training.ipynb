{
 "cells": [
  {
   "cell_type": "code",
   "execution_count": 1,
   "metadata": {},
   "outputs": [],
   "source": [
    "import joblib\n",
    "\n",
    "import numpy as np\n",
    "import pandas as pd\n",
    "import matplotlib.pyplot as plt\n",
    "import seaborn as sns\n",
    "\n",
    "from sklearn.model_selection import train_test_split\n",
    "\n",
    "from sklearn.ensemble import RandomForestClassifier\n",
    "from sklearn.neighbors import KNeighborsClassifier"
   ]
  },
  {
   "cell_type": "code",
   "execution_count": 2,
   "metadata": {},
   "outputs": [
    {
     "name": "stdout",
     "output_type": "stream",
     "text": [
      "<class 'pandas.core.frame.DataFrame'>\n",
      "RangeIndex: 127862 entries, 0 to 127861\n",
      "Data columns (total 46 columns):\n",
      " #   Column                 Non-Null Count   Dtype  \n",
      "---  ------                 --------------   -----  \n",
      " 0   Severity               127862 non-null  int64  \n",
      " 1   Start_Lat              127862 non-null  float64\n",
      " 2   Start_Lng              127862 non-null  float64\n",
      " 3   Street                 127862 non-null  object \n",
      " 4   City                   127862 non-null  object \n",
      " 5   County                 127862 non-null  object \n",
      " 6   State                  127862 non-null  object \n",
      " 7   Zipcode                127862 non-null  object \n",
      " 8   Timezone               127862 non-null  object \n",
      " 9   Airport_Code           127862 non-null  object \n",
      " 10  Temperature(F)         127862 non-null  float64\n",
      " 11  Humidity(%)            127862 non-null  float64\n",
      " 12  Pressure(in)           127862 non-null  float64\n",
      " 13  Visibility(mi)         127862 non-null  float64\n",
      " 14  Wind_Direction         127862 non-null  object \n",
      " 15  Wind_Speed(mph)        127862 non-null  float64\n",
      " 16  Precipitation(in)      127862 non-null  float64\n",
      " 17  Amenity                127862 non-null  bool   \n",
      " 18  Bump                   127862 non-null  bool   \n",
      " 19  Crossing               127862 non-null  bool   \n",
      " 20  Give_Way               127862 non-null  bool   \n",
      " 21  Junction               127862 non-null  bool   \n",
      " 22  No_Exit                127862 non-null  bool   \n",
      " 23  Railway                127862 non-null  bool   \n",
      " 24  Roundabout             127862 non-null  bool   \n",
      " 25  Station                127862 non-null  bool   \n",
      " 26  Stop                   127862 non-null  bool   \n",
      " 27  Traffic_Calming        127862 non-null  bool   \n",
      " 28  Traffic_Signal         127862 non-null  bool   \n",
      " 29  Sunrise_Sunset         127862 non-null  object \n",
      " 30  Civil_Twilight         127862 non-null  object \n",
      " 31  Nautical_Twilight      127862 non-null  object \n",
      " 32  Astronomical_Twilight  127862 non-null  object \n",
      " 33  Clear                  127862 non-null  bool   \n",
      " 34  Cloud                  127862 non-null  bool   \n",
      " 35  Rain                   127862 non-null  bool   \n",
      " 36  Heavy_Rain             127862 non-null  bool   \n",
      " 37  Snow                   127862 non-null  bool   \n",
      " 38  Heavy_Snow             127862 non-null  bool   \n",
      " 39  Fog                    127862 non-null  bool   \n",
      " 40  Year                   127862 non-null  int64  \n",
      " 41  Month                  127862 non-null  int64  \n",
      " 42  Day                    127862 non-null  int64  \n",
      " 43  Hour                   127862 non-null  int64  \n",
      " 44  Minute                 127862 non-null  float64\n",
      " 45  Precipitation_NA       127862 non-null  int64  \n",
      "dtypes: bool(19), float64(9), int64(6), object(12)\n",
      "memory usage: 28.7+ MB\n"
     ]
    }
   ],
   "source": [
    "df = pd.read_csv('../data/US_Accidents_March23_cleaned.csv')\n",
    "df.info()"
   ]
  },
  {
   "cell_type": "code",
   "execution_count": 3,
   "metadata": {},
   "outputs": [],
   "source": [
    "df = df.drop(['Zipcode', 'Airport_Code','Street'], axis=1)"
   ]
  },
  {
   "cell_type": "code",
   "execution_count": 4,
   "metadata": {},
   "outputs": [
    {
     "data": {
      "text/plain": [
       "Index(['Severity', 'Start_Lat', 'Start_Lng', 'City', 'County', 'State',\n",
       "       'Timezone', 'Temperature(F)', 'Humidity(%)', 'Pressure(in)',\n",
       "       'Visibility(mi)', 'Wind_Direction', 'Wind_Speed(mph)',\n",
       "       'Precipitation(in)', 'Amenity', 'Bump', 'Crossing', 'Give_Way',\n",
       "       'Junction', 'No_Exit', 'Railway', 'Roundabout', 'Station', 'Stop',\n",
       "       'Traffic_Calming', 'Traffic_Signal', 'Sunrise_Sunset', 'Civil_Twilight',\n",
       "       'Nautical_Twilight', 'Astronomical_Twilight', 'Clear', 'Cloud', 'Rain',\n",
       "       'Heavy_Rain', 'Snow', 'Heavy_Snow', 'Fog', 'Year', 'Month', 'Day',\n",
       "       'Hour', 'Minute', 'Precipitation_NA'],\n",
       "      dtype='object')"
      ]
     },
     "execution_count": 4,
     "metadata": {},
     "output_type": "execute_result"
    }
   ],
   "source": [
    "df.columns"
   ]
  },
  {
   "cell_type": "code",
   "execution_count": 5,
   "metadata": {},
   "outputs": [
    {
     "data": {
      "text/plain": [
       "(((102289, 8126), (102289,)), ((25573, 8126), (25573,)))"
      ]
     },
     "execution_count": 5,
     "metadata": {},
     "output_type": "execute_result"
    }
   ],
   "source": [
    "df_dummy = pd.get_dummies(df, drop_first=True)\n",
    "\n",
    "target='Severity'\n",
    "\n",
    "y = df_dummy[target]\n",
    "X = df_dummy.drop(target, axis=1)\n",
    "\n",
    "X_train, X_test, y_train, y_test = train_test_split(X, y, test_size=0.2, random_state=43)\n",
    "(X_train.shape, y_train.shape), (X_test.shape, y_test.shape)"
   ]
  },
  {
   "cell_type": "markdown",
   "metadata": {},
   "source": [
    "# Model Training"
   ]
  },
  {
   "cell_type": "markdown",
   "metadata": {},
   "source": [
    "## Helper Functions"
   ]
  },
  {
   "cell_type": "code",
   "execution_count": 6,
   "metadata": {},
   "outputs": [],
   "source": [
    "def get_accuracy(prediction_labels, true_labels):    \n",
    "    num_correct = np.sum(prediction_labels == true_labels)\n",
    "    accuracy = num_correct / len(true_labels)\n",
    "    return accuracy"
   ]
  },
  {
   "cell_type": "markdown",
   "metadata": {},
   "source": [
    "## Random Forest"
   ]
  },
  {
   "cell_type": "code",
   "execution_count": 14,
   "metadata": {},
   "outputs": [],
   "source": [
    "rf = RandomForestClassifier(n_estimators=100)\n",
    "rf.fit(X_train, y_train)\n",
    "rf_pred=rf.predict(X_test)"
   ]
  },
  {
   "cell_type": "code",
   "execution_count": 15,
   "metadata": {},
   "outputs": [
    {
     "name": "stdout",
     "output_type": "stream",
     "text": [
      "[Random Forest] accuracy_score: 0.814.\n"
     ]
    }
   ],
   "source": [
    "rf_acc=get_accuracy(rf_pred, y_test)\n",
    "print(\"[Random Forest] accuracy_score: {:.3f}.\".format(rf_acc))"
   ]
  },
  {
   "cell_type": "code",
   "execution_count": 17,
   "metadata": {},
   "outputs": [
    {
     "data": {
      "text/plain": [
       "['../models/random_forest_model.pkl']"
      ]
     },
     "execution_count": 17,
     "metadata": {},
     "output_type": "execute_result"
    }
   ],
   "source": [
    "joblib.dump(rf, '../models/random_forest_model.pkl')"
   ]
  },
  {
   "cell_type": "code",
   "execution_count": 89,
   "metadata": {},
   "outputs": [
    {
     "data": {
      "image/png": "[encoded data removed]",
      "text/plain": [
       "<Figure size 640x480 with 1 Axes>"
      ]
     },
     "metadata": {},
     "output_type": "display_data"
    }
   ],
   "source": [
    "feature_imp = pd.Series(rf.feature_importances_,index=X.columns).sort_values(ascending=False)\n",
    "\n",
    "k=10\n",
    "sns.barplot(x=feature_imp[:10], y=feature_imp.index[:k])\n",
    "plt.xlabel('Feature Importance Score')\n",
    "plt.ylabel('Features')\n",
    "plt.title(\"Visualizing Important Features\")\n",
    "plt.show()"
   ]
  },
  {
   "cell_type": "markdown",
   "metadata": {},
   "source": [
    "## K-Nearest Neighbors"
   ]
  },
  {
   "cell_type": "code",
   "execution_count": 100,
   "metadata": {},
   "outputs": [],
   "source": [
    "knn = KNeighborsClassifier(n_neighbors=6)\n",
    "knn.fit(X_train, y_train)\n",
    "y_pred_knn = knn.predict(X_test)"
   ]
  },
  {
   "cell_type": "code",
   "execution_count": 101,
   "metadata": {},
   "outputs": [
    {
     "name": "stdout",
     "output_type": "stream",
     "text": [
      "[KNN algorithm] accuracy_score: 0.772\n"
     ]
    }
   ],
   "source": [
    "acc_knn = get_accuracy(y_pred_knn, y_test)\n",
    "print(\"[KNN algorithm] accuracy_score: {:.3f}\".format(acc_knn))"
   ]
  },
  {
   "cell_type": "code",
   "execution_count": null,
   "metadata": {},
   "outputs": [],
   "source": [
    "joblib.dump(knn, '../models/knn_model.pkl')"
   ]
  },
  {
   "cell_type": "markdown",
   "metadata": {},
   "source": [
    "# Decision Tree"
   ]
  },
  {
   "cell_type": "code",
   "execution_count": 11,
   "metadata": {},
   "outputs": [],
   "source": [
    "class DecisionTree:\n",
    "    def __init__(self, max_depth=None):\n",
    "        self.max_depth = max_depth\n",
    "\n",
    "    def fit(self, X, y):\n",
    "        self.tree = self._build_tree(X, y)\n",
    "\n",
    "    def predict(self, X):\n",
    "        return np.array([self._traverse_tree(x, self.tree) for x in X])\n",
    "\n",
    "    def _build_tree(self, X, y, depth=0):\n",
    "        num_labels = len(np.unique(y))\n",
    "\n",
    "        # Base cases\n",
    "        if depth == self.max_depth or num_labels == 1:\n",
    "            return np.argmax(np.bincount(y))\n",
    "\n",
    "        best_feature, best_threshold = self._find_best_split(X, y)\n",
    "\n",
    "        # Split the data\n",
    "        left_indices = X[:, best_feature] <= best_threshold\n",
    "        right_indices = X[:, best_feature] > best_threshold\n",
    "\n",
    "        left_tree = self._build_tree(X[left_indices], y[left_indices], depth + 1)\n",
    "        right_tree = self._build_tree(X[right_indices], y[right_indices], depth + 1)\n",
    "\n",
    "        return {'feature': best_feature, 'threshold': best_threshold,\n",
    "                'left': left_tree, 'right': right_tree}\n",
    "\n",
    "    def _find_best_split(self, X, y):\n",
    "        best_gain = 0\n",
    "        best_feature = None\n",
    "        best_threshold = None\n",
    "\n",
    "        _, num_features = X.shape\n",
    "\n",
    "        for feature in range(num_features):\n",
    "            thresholds = np.unique(X[:, feature])\n",
    "\n",
    "            for threshold in thresholds:\n",
    "                gain = self._calculate_gain(X, y, feature, threshold)\n",
    "\n",
    "                if gain > best_gain:\n",
    "                    best_gain = gain\n",
    "                    best_feature = feature\n",
    "                    best_threshold = threshold\n",
    "\n",
    "        return best_feature, best_threshold\n",
    "\n",
    "    def _calculate_gain(self, X, y, feature, threshold):\n",
    "        parent_entropy = self._calculate_entropy(y)\n",
    "\n",
    "        left_indices = X[:, feature] <= threshold\n",
    "        right_indices = X[:, feature] > threshold\n",
    "\n",
    "        left_entropy = self._calculate_entropy(y[left_indices])\n",
    "        right_entropy = self._calculate_entropy(y[right_indices])\n",
    "\n",
    "        num_left = len(y[left_indices])\n",
    "        num_right = len(y[right_indices])\n",
    "        total_samples = num_left + num_right\n",
    "\n",
    "        gain = parent_entropy - ((num_left / total_samples) * left_entropy) - ((num_right / total_samples) * right_entropy)\n",
    "\n",
    "        return gain\n",
    "\n",
    "    def _calculate_entropy(self, y):\n",
    "        _, counts = np.unique(y, return_counts=True)\n",
    "        probabilities = counts / len(y)\n",
    "        entropy = -np.sum(probabilities * np.log2(probabilities + 1e-10))\n",
    "\n",
    "        return entropy\n",
    "\n",
    "    def _traverse_tree(self, x, tree):\n",
    "        if isinstance(tree, dict):\n",
    "            feature = tree['feature']\n",
    "            threshold = tree['threshold']\n",
    "\n",
    "            if x[feature] <= threshold:\n",
    "                return self._traverse_tree(x, tree['left'])\n",
    "            else:\n",
    "                return self._traverse_tree(x, tree['right'])\n",
    "        else:\n",
    "            return tree"
   ]
  },
  {
   "cell_type": "code",
   "execution_count": 12,
   "metadata": {},
   "outputs": [
    {
     "name": "stdout",
     "output_type": "stream",
     "text": [
      "[Decision Tree algorithm] accuracy_score: 0.794\n"
     ]
    }
   ],
   "source": [
    "dt = DecisionTree(max_depth=4)\n",
    "dt.fit(X_train.values, y_train.values)\n",
    "y_pred_dt = dt.predict(X_test.values)\n",
    "\n",
    "acc_dt = get_accuracy(y_pred_dt, y_test.values)\n",
    "print(\"[Decision Tree algorithm] accuracy_score: {:.3f}\".format(acc_dt))"
   ]
  },
  {
   "cell_type": "code",
   "execution_count": 13,
   "metadata": {},
   "outputs": [
    {
     "data": {
      "text/plain": [
       "['../models/decision_tree_model.pkl']"
      ]
     },
     "execution_count": 13,
     "metadata": {},
     "output_type": "execute_result"
    }
   ],
   "source": [
    "joblib.dump(dt, '../models/decision_tree_model.pkl')"
   ]
  }
 ],
 "metadata": {
  "kernelspec": {
   "display_name": "rapids-24.04",
   "language": "python",
   "name": "python3"
  },
  "language_info": {
   "codemirror_mode": {
    "name": "ipython",
    "version": 3
   },
   "file_extension": ".py",
   "mimetype": "text/x-python",
   "name": "python",
   "nbconvert_exporter": "python",
   "pygments_lexer": "ipython3",
   "version": "3.10.14"
  }
 },
 "nbformat": 4,
 "nbformat_minor": 2
}
