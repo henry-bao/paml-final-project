{
 "cells": [
  {
   "cell_type": "code",
   "execution_count": 1,
   "metadata": {},
   "outputs": [],
   "source": [
    "import joblib\n",
    "\n",
    "import numpy as np\n",
    "import pandas as pd\n",
    "import matplotlib.pyplot as plt\n",
    "import seaborn as sns\n",
    "\n",
    "from sklearn.model_selection import train_test_split\n",
    "\n",
    "from sklearn.ensemble import RandomForestClassifier\n",
    "from sklearn.neighbors import KNeighborsClassifier"
   ]
  },
  {
   "cell_type": "code",
   "execution_count": 2,
   "metadata": {},
   "outputs": [
    {
     "name": "stdout",
     "output_type": "stream",
     "text": [
      "<class 'pandas.core.frame.DataFrame'>\n",
      "RangeIndex: 127862 entries, 0 to 127861\n",
      "Data columns (total 46 columns):\n",
      " #   Column                 Non-Null Count   Dtype  \n",
      "---  ------                 --------------   -----  \n",
      " 0   Severity               127862 non-null  int64  \n",
      " 1   Start_Lat              127862 non-null  float64\n",
      " 2   Start_Lng              127862 non-null  float64\n",
      " 3   Street                 127862 non-null  object \n",
      " 4   City                   127862 non-null  object \n",
      " 5   County                 127862 non-null  object \n",
      " 6   State                  127862 non-null  object \n",
      " 7   Zipcode                127862 non-null  object \n",
      " 8   Timezone               127862 non-null  object \n",
      " 9   Airport_Code           127862 non-null  object \n",
      " 10  Temperature(F)         127862 non-null  float64\n",
      " 11  Humidity(%)            127862 non-null  float64\n",
      " 12  Pressure(in)           127862 non-null  float64\n",
      " 13  Visibility(mi)         127862 non-null  float64\n",
      " 14  Wind_Direction         127862 non-null  object \n",
      " 15  Wind_Speed(mph)        127862 non-null  float64\n",
      " 16  Precipitation(in)      127862 non-null  float64\n",
      " 17  Amenity                127862 non-null  bool   \n",
      " 18  Bump                   127862 non-null  bool   \n",
      " 19  Crossing               127862 non-null  bool   \n",
      " 20  Give_Way               127862 non-null  bool   \n",
      " 21  Junction               127862 non-null  bool   \n",
      " 22  No_Exit                127862 non-null  bool   \n",
      " 23  Railway                127862 non-null  bool   \n",
      " 24  Roundabout             127862 non-null  bool   \n",
      " 25  Station                127862 non-null  bool   \n",
      " 26  Stop                   127862 non-null  bool   \n",
      " 27  Traffic_Calming        127862 non-null  bool   \n",
      " 28  Traffic_Signal         127862 non-null  bool   \n",
      " 29  Sunrise_Sunset         127862 non-null  object \n",
      " 30  Civil_Twilight         127862 non-null  object \n",
      " 31  Nautical_Twilight      127862 non-null  object \n",
      " 32  Astronomical_Twilight  127862 non-null  object \n",
      " 33  Clear                  127862 non-null  bool   \n",
      " 34  Cloud                  127862 non-null  bool   \n",
      " 35  Rain                   127862 non-null  bool   \n",
      " 36  Heavy_Rain             127862 non-null  bool   \n",
      " 37  Snow                   127862 non-null  bool   \n",
      " 38  Heavy_Snow             127862 non-null  bool   \n",
      " 39  Fog                    127862 non-null  bool   \n",
      " 40  Year                   127862 non-null  int64  \n",
      " 41  Month                  127862 non-null  int64  \n",
      " 42  Day                    127862 non-null  int64  \n",
      " 43  Hour                   127862 non-null  int64  \n",
      " 44  Minute                 127862 non-null  float64\n",
      " 45  Precipitation_NA       127862 non-null  int64  \n",
      "dtypes: bool(19), float64(9), int64(6), object(12)\n",
      "memory usage: 28.7+ MB\n"
     ]
    }
   ],
   "source": [
    "df = pd.read_csv('../data/US_Accidents_March23_cleaned.csv')\n",
    "df.info()"
   ]
  },
  {
   "cell_type": "code",
   "execution_count": 3,
   "metadata": {},
   "outputs": [],
   "source": [
    "df = df.drop(['Zipcode', 'Airport_Code','Street'], axis=1)"
   ]
  },
  {
   "cell_type": "code",
   "execution_count": 4,
   "metadata": {},
   "outputs": [
    {
     "data": {
      "text/plain": [
       "Index(['Severity', 'Start_Lat', 'Start_Lng', 'City', 'County', 'State',\n",
       "       'Timezone', 'Temperature(F)', 'Humidity(%)', 'Pressure(in)',\n",
       "       'Visibility(mi)', 'Wind_Direction', 'Wind_Speed(mph)',\n",
       "       'Precipitation(in)', 'Amenity', 'Bump', 'Crossing', 'Give_Way',\n",
       "       'Junction', 'No_Exit', 'Railway', 'Roundabout', 'Station', 'Stop',\n",
       "       'Traffic_Calming', 'Traffic_Signal', 'Sunrise_Sunset', 'Civil_Twilight',\n",
       "       'Nautical_Twilight', 'Astronomical_Twilight', 'Clear', 'Cloud', 'Rain',\n",
       "       'Heavy_Rain', 'Snow', 'Heavy_Snow', 'Fog', 'Year', 'Month', 'Day',\n",
       "       'Hour', 'Minute', 'Precipitation_NA'],\n",
       "      dtype='object')"
      ]
     },
     "execution_count": 4,
     "metadata": {},
     "output_type": "execute_result"
    }
   ],
   "source": [
    "df.columns"
   ]
  },
  {
   "cell_type": "code",
   "execution_count": 5,
   "metadata": {},
   "outputs": [],
   "source": [
    "df_dummy = pd.get_dummies(df, drop_first=True)"
   ]
  },
  {
   "cell_type": "code",
   "execution_count": 6,
   "metadata": {},
   "outputs": [],
   "source": [
    "target='Severity'\n",
    "\n",
    "y = df_dummy[target]\n",
    "X = df_dummy.drop(target, axis=1)\n",
    "\n",
    "X_train, X_test, y_train, y_test = train_test_split(X, y, random_state=43)"
   ]
  },
  {
   "cell_type": "markdown",
   "metadata": {},
   "source": [
    "# Model Training"
   ]
  },
  {
   "cell_type": "markdown",
   "metadata": {},
   "source": [
    "## Helper Functions"
   ]
  },
  {
   "cell_type": "code",
   "execution_count": 7,
   "metadata": {},
   "outputs": [],
   "source": [
    "def get_accuracy(prediction_labels, true_labels):    \n",
    "    num_correct = np.sum(prediction_labels == true_labels)\n",
    "    accuracy = num_correct / len(true_labels)\n",
    "    return accuracy"
   ]
  },
  {
   "cell_type": "markdown",
   "metadata": {},
   "source": [
    "## Random Forest"
   ]
  },
  {
   "cell_type": "code",
   "execution_count": 8,
   "metadata": {},
   "outputs": [],
   "source": [
    "joblib.dump(lr, '../models/lr_model.pkl')"
   ]
  },
  {
   "cell_type": "code",
   "execution_count": 9,
   "metadata": {},
   "outputs": [
    {
     "name": "stderr",
     "output_type": "stream",
     "text": [
      "e:\\anaconda\\Lib\\site-packages\\sklearn\\base.py:464: UserWarning: X does not have valid feature names, but KNeighborsClassifier was fitted with feature names\n",
      "  warnings.warn(\n"
     ]
    }
   ],
   "source": [
    "knn = KNeighborsClassifier(n_neighbors=6)\n",
    "X_train_smaller, _, y_train_smaller, _ = train_test_split(X_train, y_train, test_size=0.5, random_state=42)\n",
    "knn.fit(X_train_smaller, y_train_smaller)\n",
    "X_test_Knn = X_test.reset_index(drop=True)\n",
    "X_test_Knn = X_test_Knn.values\n",
    "y_pred_knn = knn.predict(X_test_Knn)"
   ]
  },
  {
   "cell_type": "code",
   "execution_count": 10,
   "metadata": {},
   "outputs": [
    {
     "name": "stdout",
     "output_type": "stream",
     "text": [
      "[KNN algorithm] accuracy_score: 0.786\n"
     ]
    }
   ],
   "source": [
    "acc_knn = get_accuracy(y_pred_knn, y_test)\n",
    "print(\"[KNN algorithm] accuracy_score: {:.3f}\".format(acc_knn))"
   ]
  },
  {
   "cell_type": "code",
   "execution_count": null,
   "metadata": {},
   "outputs": [],
   "source": [
    "joblib.dump(knn, '../models/knn_model.pkl')"
   ]
  }
 ],
 "metadata": {
  "kernelspec": {
   "display_name": "rapids-24.04",
   "language": "python",
   "name": "python3"
  },
  "language_info": {
   "codemirror_mode": {
    "name": "ipython",
    "version": 3
   },
   "file_extension": ".py",
   "mimetype": "text/x-python",
   "name": "python",
   "nbconvert_exporter": "python",
   "pygments_lexer": "ipython3",
   "version": "3.12.2"
  }
 },
 "nbformat": 4,
 "nbformat_minor": 2
}
