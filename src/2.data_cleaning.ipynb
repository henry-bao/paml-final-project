{
 "cells": [
  {
   "cell_type": "code",
   "execution_count": 1,
   "metadata": {},
   "outputs": [],
   "source": [
    "import pandas as pd\n",
    "import numpy as np\n",
    "import re"
   ]
  },
  {
   "cell_type": "markdown",
   "metadata": {},
   "source": [
    "Load Dataset"
   ]
  },
  {
   "cell_type": "code",
   "execution_count": 2,
   "metadata": {},
   "outputs": [
    {
     "data": {
      "text/html": [
       "<div>\n",
       "<style scoped>\n",
       "    .dataframe tbody tr th:only-of-type {\n",
       "        vertical-align: middle;\n",
       "    }\n",
       "\n",
       "    .dataframe tbody tr th {\n",
       "        vertical-align: top;\n",
       "    }\n",
       "\n",
       "    .dataframe thead th {\n",
       "        text-align: right;\n",
       "    }\n",
       "</style>\n",
       "<table border=\"1\" class=\"dataframe\">\n",
       "  <thead>\n",
       "    <tr style=\"text-align: right;\">\n",
       "      <th></th>\n",
       "      <th>ID</th>\n",
       "      <th>Source</th>\n",
       "      <th>Severity</th>\n",
       "      <th>Start_Time</th>\n",
       "      <th>End_Time</th>\n",
       "      <th>Start_Lat</th>\n",
       "      <th>Start_Lng</th>\n",
       "      <th>End_Lat</th>\n",
       "      <th>End_Lng</th>\n",
       "      <th>Distance(mi)</th>\n",
       "      <th>...</th>\n",
       "      <th>Roundabout</th>\n",
       "      <th>Station</th>\n",
       "      <th>Stop</th>\n",
       "      <th>Traffic_Calming</th>\n",
       "      <th>Traffic_Signal</th>\n",
       "      <th>Turning_Loop</th>\n",
       "      <th>Sunrise_Sunset</th>\n",
       "      <th>Civil_Twilight</th>\n",
       "      <th>Nautical_Twilight</th>\n",
       "      <th>Astronomical_Twilight</th>\n",
       "    </tr>\n",
       "  </thead>\n",
       "  <tbody>\n",
       "    <tr>\n",
       "      <th>0</th>\n",
       "      <td>A-5366042</td>\n",
       "      <td>Source1</td>\n",
       "      <td>2</td>\n",
       "      <td>2022-02-09 15:30:35</td>\n",
       "      <td>2022-02-09 17:47:21</td>\n",
       "      <td>42.744212</td>\n",
       "      <td>-73.777739</td>\n",
       "      <td>42.733496</td>\n",
       "      <td>-73.788485</td>\n",
       "      <td>0.920</td>\n",
       "      <td>...</td>\n",
       "      <td>False</td>\n",
       "      <td>False</td>\n",
       "      <td>False</td>\n",
       "      <td>False</td>\n",
       "      <td>False</td>\n",
       "      <td>False</td>\n",
       "      <td>Day</td>\n",
       "      <td>Day</td>\n",
       "      <td>Day</td>\n",
       "      <td>Day</td>\n",
       "    </tr>\n",
       "    <tr>\n",
       "      <th>1</th>\n",
       "      <td>A-3989112</td>\n",
       "      <td>Source1</td>\n",
       "      <td>2</td>\n",
       "      <td>2022-03-08 15:06:07</td>\n",
       "      <td>2022-03-08 16:42:56</td>\n",
       "      <td>39.882025</td>\n",
       "      <td>-102.243444</td>\n",
       "      <td>39.878531</td>\n",
       "      <td>-102.246944</td>\n",
       "      <td>0.304</td>\n",
       "      <td>...</td>\n",
       "      <td>False</td>\n",
       "      <td>False</td>\n",
       "      <td>False</td>\n",
       "      <td>False</td>\n",
       "      <td>False</td>\n",
       "      <td>False</td>\n",
       "      <td>NaN</td>\n",
       "      <td>NaN</td>\n",
       "      <td>NaN</td>\n",
       "      <td>NaN</td>\n",
       "    </tr>\n",
       "    <tr>\n",
       "      <th>2</th>\n",
       "      <td>A-4417542</td>\n",
       "      <td>Source1</td>\n",
       "      <td>2</td>\n",
       "      <td>2022-05-02 06:23:30</td>\n",
       "      <td>2022-05-02 19:25:30</td>\n",
       "      <td>33.866554</td>\n",
       "      <td>-117.998246</td>\n",
       "      <td>33.892132</td>\n",
       "      <td>-118.043715</td>\n",
       "      <td>3.151</td>\n",
       "      <td>...</td>\n",
       "      <td>False</td>\n",
       "      <td>False</td>\n",
       "      <td>False</td>\n",
       "      <td>False</td>\n",
       "      <td>False</td>\n",
       "      <td>False</td>\n",
       "      <td>Day</td>\n",
       "      <td>Day</td>\n",
       "      <td>Day</td>\n",
       "      <td>Day</td>\n",
       "    </tr>\n",
       "    <tr>\n",
       "      <th>3</th>\n",
       "      <td>A-4816426</td>\n",
       "      <td>Source1</td>\n",
       "      <td>2</td>\n",
       "      <td>2022-07-02 19:31:34</td>\n",
       "      <td>2022-07-02 20:16:34</td>\n",
       "      <td>39.090377</td>\n",
       "      <td>-94.804167</td>\n",
       "      <td>39.091236</td>\n",
       "      <td>-94.805199</td>\n",
       "      <td>0.081</td>\n",
       "      <td>...</td>\n",
       "      <td>False</td>\n",
       "      <td>False</td>\n",
       "      <td>False</td>\n",
       "      <td>False</td>\n",
       "      <td>False</td>\n",
       "      <td>False</td>\n",
       "      <td>Day</td>\n",
       "      <td>Day</td>\n",
       "      <td>Day</td>\n",
       "      <td>Day</td>\n",
       "    </tr>\n",
       "    <tr>\n",
       "      <th>4</th>\n",
       "      <td>A-2256814</td>\n",
       "      <td>Source2</td>\n",
       "      <td>2</td>\n",
       "      <td>2019-01-31 10:05:24</td>\n",
       "      <td>2019-01-31 10:34:50</td>\n",
       "      <td>34.473560</td>\n",
       "      <td>-120.205147</td>\n",
       "      <td>NaN</td>\n",
       "      <td>NaN</td>\n",
       "      <td>0.000</td>\n",
       "      <td>...</td>\n",
       "      <td>False</td>\n",
       "      <td>False</td>\n",
       "      <td>False</td>\n",
       "      <td>False</td>\n",
       "      <td>False</td>\n",
       "      <td>False</td>\n",
       "      <td>Day</td>\n",
       "      <td>Day</td>\n",
       "      <td>Day</td>\n",
       "      <td>Day</td>\n",
       "    </tr>\n",
       "    <tr>\n",
       "      <th>5</th>\n",
       "      <td>A-6277713</td>\n",
       "      <td>Source1</td>\n",
       "      <td>2</td>\n",
       "      <td>2021-11-06 00:02:00</td>\n",
       "      <td>2021-11-06 02:07:39</td>\n",
       "      <td>38.911848</td>\n",
       "      <td>-121.026336</td>\n",
       "      <td>38.911086</td>\n",
       "      <td>-121.032444</td>\n",
       "      <td>0.333</td>\n",
       "      <td>...</td>\n",
       "      <td>False</td>\n",
       "      <td>False</td>\n",
       "      <td>False</td>\n",
       "      <td>False</td>\n",
       "      <td>False</td>\n",
       "      <td>False</td>\n",
       "      <td>Night</td>\n",
       "      <td>Night</td>\n",
       "      <td>Night</td>\n",
       "      <td>Night</td>\n",
       "    </tr>\n",
       "    <tr>\n",
       "      <th>6</th>\n",
       "      <td>A-4998610</td>\n",
       "      <td>Source1</td>\n",
       "      <td>2</td>\n",
       "      <td>2022-02-10 12:10:00</td>\n",
       "      <td>2022-02-10 13:52:02</td>\n",
       "      <td>37.732748</td>\n",
       "      <td>-120.839599</td>\n",
       "      <td>37.732838</td>\n",
       "      <td>-120.848759</td>\n",
       "      <td>0.501</td>\n",
       "      <td>...</td>\n",
       "      <td>False</td>\n",
       "      <td>False</td>\n",
       "      <td>False</td>\n",
       "      <td>False</td>\n",
       "      <td>True</td>\n",
       "      <td>False</td>\n",
       "      <td>Day</td>\n",
       "      <td>Day</td>\n",
       "      <td>Day</td>\n",
       "      <td>Day</td>\n",
       "    </tr>\n",
       "    <tr>\n",
       "      <th>7</th>\n",
       "      <td>A-1814184</td>\n",
       "      <td>Source2</td>\n",
       "      <td>2</td>\n",
       "      <td>2019-11-12 07:16:31</td>\n",
       "      <td>2019-11-12 08:14:42</td>\n",
       "      <td>25.761061</td>\n",
       "      <td>-80.424881</td>\n",
       "      <td>NaN</td>\n",
       "      <td>NaN</td>\n",
       "      <td>0.000</td>\n",
       "      <td>...</td>\n",
       "      <td>False</td>\n",
       "      <td>False</td>\n",
       "      <td>False</td>\n",
       "      <td>False</td>\n",
       "      <td>True</td>\n",
       "      <td>False</td>\n",
       "      <td>Day</td>\n",
       "      <td>Day</td>\n",
       "      <td>Day</td>\n",
       "      <td>Day</td>\n",
       "    </tr>\n",
       "    <tr>\n",
       "      <th>8</th>\n",
       "      <td>A-6668224</td>\n",
       "      <td>Source1</td>\n",
       "      <td>2</td>\n",
       "      <td>2021-01-01 00:41:15</td>\n",
       "      <td>2021-01-01 02:17:19</td>\n",
       "      <td>41.094778</td>\n",
       "      <td>-73.934201</td>\n",
       "      <td>41.079498</td>\n",
       "      <td>-73.921901</td>\n",
       "      <td>1.235</td>\n",
       "      <td>...</td>\n",
       "      <td>False</td>\n",
       "      <td>False</td>\n",
       "      <td>False</td>\n",
       "      <td>False</td>\n",
       "      <td>False</td>\n",
       "      <td>False</td>\n",
       "      <td>Night</td>\n",
       "      <td>Night</td>\n",
       "      <td>Night</td>\n",
       "      <td>Night</td>\n",
       "    </tr>\n",
       "    <tr>\n",
       "      <th>9</th>\n",
       "      <td>A-4412180</td>\n",
       "      <td>Source1</td>\n",
       "      <td>2</td>\n",
       "      <td>2022-03-08 18:21:00</td>\n",
       "      <td>2022-03-08 19:36:39</td>\n",
       "      <td>28.327212</td>\n",
       "      <td>-81.290318</td>\n",
       "      <td>28.327478</td>\n",
       "      <td>-81.288885</td>\n",
       "      <td>0.089</td>\n",
       "      <td>...</td>\n",
       "      <td>False</td>\n",
       "      <td>False</td>\n",
       "      <td>False</td>\n",
       "      <td>False</td>\n",
       "      <td>False</td>\n",
       "      <td>False</td>\n",
       "      <td>Day</td>\n",
       "      <td>Day</td>\n",
       "      <td>Day</td>\n",
       "      <td>Day</td>\n",
       "    </tr>\n",
       "  </tbody>\n",
       "</table>\n",
       "<p>10 rows × 46 columns</p>\n",
       "</div>"
      ],
      "text/plain": [
       "          ID   Source  Severity           Start_Time             End_Time  \\\n",
       "0  A-5366042  Source1         2  2022-02-09 15:30:35  2022-02-09 17:47:21   \n",
       "1  A-3989112  Source1         2  2022-03-08 15:06:07  2022-03-08 16:42:56   \n",
       "2  A-4417542  Source1         2  2022-05-02 06:23:30  2022-05-02 19:25:30   \n",
       "3  A-4816426  Source1         2  2022-07-02 19:31:34  2022-07-02 20:16:34   \n",
       "4  A-2256814  Source2         2  2019-01-31 10:05:24  2019-01-31 10:34:50   \n",
       "5  A-6277713  Source1         2  2021-11-06 00:02:00  2021-11-06 02:07:39   \n",
       "6  A-4998610  Source1         2  2022-02-10 12:10:00  2022-02-10 13:52:02   \n",
       "7  A-1814184  Source2         2  2019-11-12 07:16:31  2019-11-12 08:14:42   \n",
       "8  A-6668224  Source1         2  2021-01-01 00:41:15  2021-01-01 02:17:19   \n",
       "9  A-4412180  Source1         2  2022-03-08 18:21:00  2022-03-08 19:36:39   \n",
       "\n",
       "   Start_Lat   Start_Lng    End_Lat     End_Lng  Distance(mi)  ... Roundabout  \\\n",
       "0  42.744212  -73.777739  42.733496  -73.788485         0.920  ...      False   \n",
       "1  39.882025 -102.243444  39.878531 -102.246944         0.304  ...      False   \n",
       "2  33.866554 -117.998246  33.892132 -118.043715         3.151  ...      False   \n",
       "3  39.090377  -94.804167  39.091236  -94.805199         0.081  ...      False   \n",
       "4  34.473560 -120.205147        NaN         NaN         0.000  ...      False   \n",
       "5  38.911848 -121.026336  38.911086 -121.032444         0.333  ...      False   \n",
       "6  37.732748 -120.839599  37.732838 -120.848759         0.501  ...      False   \n",
       "7  25.761061  -80.424881        NaN         NaN         0.000  ...      False   \n",
       "8  41.094778  -73.934201  41.079498  -73.921901         1.235  ...      False   \n",
       "9  28.327212  -81.290318  28.327478  -81.288885         0.089  ...      False   \n",
       "\n",
       "  Station   Stop Traffic_Calming Traffic_Signal Turning_Loop Sunrise_Sunset  \\\n",
       "0   False  False           False          False        False            Day   \n",
       "1   False  False           False          False        False            NaN   \n",
       "2   False  False           False          False        False            Day   \n",
       "3   False  False           False          False        False            Day   \n",
       "4   False  False           False          False        False            Day   \n",
       "5   False  False           False          False        False          Night   \n",
       "6   False  False           False           True        False            Day   \n",
       "7   False  False           False           True        False            Day   \n",
       "8   False  False           False          False        False          Night   \n",
       "9   False  False           False          False        False            Day   \n",
       "\n",
       "  Civil_Twilight Nautical_Twilight Astronomical_Twilight  \n",
       "0            Day               Day                   Day  \n",
       "1            NaN               NaN                   NaN  \n",
       "2            Day               Day                   Day  \n",
       "3            Day               Day                   Day  \n",
       "4            Day               Day                   Day  \n",
       "5          Night             Night                 Night  \n",
       "6            Day               Day                   Day  \n",
       "7            Day               Day                   Day  \n",
       "8          Night             Night                 Night  \n",
       "9            Day               Day                   Day  \n",
       "\n",
       "[10 rows x 46 columns]"
      ]
     },
     "execution_count": 2,
     "metadata": {},
     "output_type": "execute_result"
    }
   ],
   "source": [
    "df = pd.read_csv('../data/US_Accidents_March23_undersample.csv')\n",
    "df.head(10)"
   ]
  },
  {
   "cell_type": "code",
   "execution_count": 3,
   "metadata": {},
   "outputs": [
    {
     "data": {
      "text/plain": [
       "0"
      ]
     },
     "execution_count": 3,
     "metadata": {},
     "output_type": "execute_result"
    }
   ],
   "source": [
    "# number of duplicated data\n",
    "df.duplicated().sum()"
   ]
  },
  {
   "cell_type": "code",
   "execution_count": 4,
   "metadata": {},
   "outputs": [
    {
     "data": {
      "text/plain": [
       "Index(['ID', 'Source', 'Severity', 'Start_Time', 'End_Time', 'Start_Lat',\n",
       "       'Start_Lng', 'End_Lat', 'End_Lng', 'Distance(mi)', 'Description',\n",
       "       'Street', 'City', 'County', 'State', 'Zipcode', 'Country', 'Timezone',\n",
       "       'Airport_Code', 'Weather_Timestamp', 'Temperature(F)', 'Wind_Chill(F)',\n",
       "       'Humidity(%)', 'Pressure(in)', 'Visibility(mi)', 'Wind_Direction',\n",
       "       'Wind_Speed(mph)', 'Precipitation(in)', 'Weather_Condition', 'Amenity',\n",
       "       'Bump', 'Crossing', 'Give_Way', 'Junction', 'No_Exit', 'Railway',\n",
       "       'Roundabout', 'Station', 'Stop', 'Traffic_Calming', 'Traffic_Signal',\n",
       "       'Turning_Loop', 'Sunrise_Sunset', 'Civil_Twilight', 'Nautical_Twilight',\n",
       "       'Astronomical_Twilight'],\n",
       "      dtype='object')"
      ]
     },
     "execution_count": 4,
     "metadata": {},
     "output_type": "execute_result"
    }
   ],
   "source": [
    "df.columns"
   ]
  },
  {
   "cell_type": "code",
   "execution_count": 5,
   "metadata": {},
   "outputs": [
    {
     "data": {
      "text/plain": [
       "Index(['Severity', 'Start_Time', 'Start_Lat', 'Start_Lng', 'Street', 'City',\n",
       "       'County', 'State', 'Zipcode', 'Country', 'Timezone', 'Airport_Code',\n",
       "       'Temperature(F)', 'Wind_Chill(F)', 'Humidity(%)', 'Pressure(in)',\n",
       "       'Visibility(mi)', 'Wind_Direction', 'Wind_Speed(mph)',\n",
       "       'Precipitation(in)', 'Weather_Condition', 'Amenity', 'Bump', 'Crossing',\n",
       "       'Give_Way', 'Junction', 'No_Exit', 'Railway', 'Roundabout', 'Station',\n",
       "       'Stop', 'Traffic_Calming', 'Traffic_Signal', 'Turning_Loop',\n",
       "       'Sunrise_Sunset', 'Civil_Twilight', 'Nautical_Twilight',\n",
       "       'Astronomical_Twilight'],\n",
       "      dtype='object')"
      ]
     },
     "execution_count": 5,
     "metadata": {},
     "output_type": "execute_result"
    }
   ],
   "source": [
    "# drop columns that are not useful\n",
    "not_useful = ['ID', 'Source', 'End_Time', 'End_Lat', 'End_Lng', 'Distance(mi)', 'Description', 'Weather_Timestamp']\n",
    "df = df.drop(not_useful, axis=1)\n",
    "df.columns"
   ]
  },
  {
   "cell_type": "code",
   "execution_count": 6,
   "metadata": {},
   "outputs": [
    {
     "data": {
      "text/plain": [
       "array([dtype('int64'), dtype('O'), dtype('float64'), dtype('bool')],\n",
       "      dtype=object)"
      ]
     },
     "execution_count": 6,
     "metadata": {},
     "output_type": "execute_result"
    }
   ],
   "source": [
    "df.dtypes.unique()"
   ]
  },
  {
   "cell_type": "code",
   "execution_count": 7,
   "metadata": {},
   "outputs": [
    {
     "data": {
      "text/plain": [
       "Index(['Start_Time', 'Street', 'City', 'County', 'State', 'Zipcode', 'Country',\n",
       "       'Timezone', 'Airport_Code', 'Wind_Direction', 'Weather_Condition',\n",
       "       'Amenity', 'Bump', 'Crossing', 'Give_Way', 'Junction', 'No_Exit',\n",
       "       'Railway', 'Roundabout', 'Station', 'Stop', 'Traffic_Calming',\n",
       "       'Traffic_Signal', 'Turning_Loop', 'Sunrise_Sunset', 'Civil_Twilight',\n",
       "       'Nautical_Twilight', 'Astronomical_Twilight'],\n",
       "      dtype='object')"
      ]
     },
     "execution_count": 7,
     "metadata": {},
     "output_type": "execute_result"
    }
   ],
   "source": [
    "categorical_columns = df.select_dtypes(include=['object', 'bool']).columns\n",
    "categorical_columns"
   ]
  },
  {
   "cell_type": "code",
   "execution_count": 8,
   "metadata": {},
   "outputs": [
    {
     "data": {
      "text/plain": [
       "Index(['Severity', 'Start_Lat', 'Start_Lng', 'Temperature(F)', 'Wind_Chill(F)',\n",
       "       'Humidity(%)', 'Pressure(in)', 'Visibility(mi)', 'Wind_Speed(mph)',\n",
       "       'Precipitation(in)'],\n",
       "      dtype='object')"
      ]
     },
     "execution_count": 8,
     "metadata": {},
     "output_type": "execute_result"
    }
   ],
   "source": [
    "numerical_columns = df.select_dtypes(include=['int64', 'int32', 'float64']).columns\n",
    "numerical_columns"
   ]
  },
  {
   "cell_type": "code",
   "execution_count": 9,
   "metadata": {},
   "outputs": [
    {
     "name": "stdout",
     "output_type": "stream",
     "text": [
      "Start_Time 235894\n",
      "Street 58002\n",
      "City 8883\n",
      "County 1570\n",
      "State 49\n",
      "Zipcode 72354\n",
      "Country 1\n",
      "Timezone 4\n",
      "Airport_Code 1814\n",
      "Wind_Direction 25\n",
      "Weather_Condition 96\n",
      "Amenity 2\n",
      "Bump 2\n",
      "Crossing 2\n",
      "Give_Way 2\n",
      "Junction 2\n",
      "No_Exit 2\n",
      "Railway 2\n",
      "Roundabout 2\n",
      "Station 2\n",
      "Stop 2\n",
      "Traffic_Calming 2\n",
      "Traffic_Signal 2\n",
      "Turning_Loop 1\n",
      "Sunrise_Sunset 3\n",
      "Civil_Twilight 3\n",
      "Nautical_Twilight 3\n",
      "Astronomical_Twilight 3\n"
     ]
    }
   ],
   "source": [
    "for i in categorical_columns:  \n",
    "  print(i,df[i].unique().size)"
   ]
  },
  {
   "cell_type": "code",
   "execution_count": 10,
   "metadata": {},
   "outputs": [],
   "source": [
    "# drop country and turning loop because they have only one unique value\n",
    "df = df.drop(['Country','Turning_Loop'], axis=1)"
   ]
  },
  {
   "cell_type": "code",
   "execution_count": 11,
   "metadata": {},
   "outputs": [
    {
     "name": "stdout",
     "output_type": "stream",
     "text": [
      "All wind Direction:  ['SSE' 'N' 'SSW' 'NE' 'ENE' 'CALM' 'NNW' 'SE' 'VAR' 'SW' 'WSW' 'NW' 'WNW'\n",
      " 'NNE' 'E' 'ESE' 'W' 'S' nan 'South' 'West' 'Calm' 'East' 'Variable'\n",
      " 'North']\n"
     ]
    }
   ],
   "source": [
    "print(\"All wind Direction: \", df['Wind_Direction'].unique())"
   ]
  },
  {
   "cell_type": "code",
   "execution_count": 12,
   "metadata": {},
   "outputs": [
    {
     "name": "stdout",
     "output_type": "stream",
     "text": [
      "All wind directions after simplification: ['S' 'N' 'NE' 'E' 'CALM' 'SE' 'VAR' 'SW' 'W' 'NW' nan]\n"
     ]
    }
   ],
   "source": [
    "# simplify wind directions\n",
    "direction_mapping = {\n",
    "    'Calm': 'CALM',\n",
    "    'West': 'W', 'WSW': 'W', 'WNW': 'W',\n",
    "    'South': 'S', 'SSW': 'S', 'SSE': 'S',\n",
    "    'North': 'N', 'NNW': 'N', 'NNE': 'N',\n",
    "    'East': 'E', 'ESE': 'E', 'ENE': 'E',\n",
    "    'Variable': 'VAR'\n",
    "}\n",
    "\n",
    "# apply the mapping to the 'Wind_Direction' column\n",
    "df['Wind_Direction'] = df['Wind_Direction'].map(direction_mapping).fillna(df['Wind_Direction'])\n",
    "print(\"All wind directions after simplification:\", df['Wind_Direction'].unique())"
   ]
  },
  {
   "cell_type": "code",
   "execution_count": 13,
   "metadata": {},
   "outputs": [
    {
     "name": "stdout",
     "output_type": "stream",
     "text": [
      "Weather Conditions: ['', 'Clear', 'Cloudy', 'Drifting Snow', 'Drizzle', 'Dust', 'Dust Whirlwinds', 'Fair', 'Fog', 'Hail', 'Haze', 'Heavy Drizzle', 'Heavy Rain', 'Heavy Rain Shower', 'Heavy Sleet', 'Heavy Snow', 'Heavy T-Storm', 'Heavy Thunderstorms', 'Ice Pellets', 'Light ', 'Light Drizzle', 'Light Ice Pellets', 'Light Rain', 'Light Rain Shower', 'Light Rain Showers', 'Light Sleet', 'Light Snow', 'Light Thunderstorms', 'Mist', 'N/A Precipitation', 'Overcast', 'Partial Fog', 'Patches of Fog', 'Rain', 'Rain Showers', 'Sand', 'Scattered Clouds', 'Shallow Fog', 'Showers in the Vicinity', 'Sleet', 'Small Hail', 'Smoke', 'Snow', 'Squalls', 'T-Storm', 'Thunder', 'Thunder in the Vicinity', 'Thunderstorm', 'Thunderstorms', 'Tornado', 'Widespread Dust', 'Windy', 'Wintry Mix']\n"
     ]
    }
   ],
   "source": [
    "# combine unique weather conditions into a single string, separating with '!'\n",
    "weather_conditions_str = '!'.join(df['Weather_Condition'].dropna().unique().tolist())\n",
    "\n",
    "# split the string using specified delimiters and filter out repetitive elements\n",
    "unique_weather_conditions = np.unique(np.array(re.split(\n",
    "    r\"!|\\s/\\s|\\sand\\s|\\swith\\s|Partly\\s|Mostly\\s|Blowing\\s|Freezing\\s\", weather_conditions_str))).tolist()\n",
    "print(\"Weather Conditions:\", unique_weather_conditions)"
   ]
  },
  {
   "cell_type": "code",
   "execution_count": 14,
   "metadata": {},
   "outputs": [],
   "source": [
    "# map weather conditions to columns\n",
    "weather_conditions = {\n",
    "    'Clear': 'Clear',\n",
    "    'Cloud': 'Cloud|Overcast',\n",
    "    'Rain': 'Rain|storm',\n",
    "    'Heavy_Rain': 'Heavy Rain|Rain Shower|Heavy T-Storm|Heavy Thunderstorms',\n",
    "    'Snow': 'Snow|Sleet|Ice',\n",
    "    'Heavy_Snow': 'Heavy Snow|Heavy Sleet|Heavy Ice Pellets|Snow Showers|Squalls',\n",
    "    'Fog': 'Fog'\n",
    "}\n",
    "\n",
    "# apply conditions and create new columns\n",
    "for column, condition in weather_conditions.items():\n",
    "    df[column] = df['Weather_Condition'].str.contains(condition, case=False, na=False)\n"
   ]
  },
  {
   "cell_type": "code",
   "execution_count": 15,
   "metadata": {},
   "outputs": [
    {
     "name": "stderr",
     "output_type": "stream",
     "text": [
      "/var/folders/dp/ptv4cbpd6fvf95gkd_vy0df00000gn/T/ipykernel_20225/1656484887.py:5: FutureWarning: Setting an item of incompatible dtype is deprecated and will raise an error in a future version of pandas. Value '[nan nan nan ... nan nan nan]' has dtype incompatible with bool, please explicitly cast to a compatible dtype first.\n",
      "  df.loc[null_condition, condition] = df.loc[null_condition, 'Weather_Condition']\n",
      "/var/folders/dp/ptv4cbpd6fvf95gkd_vy0df00000gn/T/ipykernel_20225/1656484887.py:5: FutureWarning: Setting an item of incompatible dtype is deprecated and will raise an error in a future version of pandas. Value '[nan nan nan ... nan nan nan]' has dtype incompatible with bool, please explicitly cast to a compatible dtype first.\n",
      "  df.loc[null_condition, condition] = df.loc[null_condition, 'Weather_Condition']\n",
      "/var/folders/dp/ptv4cbpd6fvf95gkd_vy0df00000gn/T/ipykernel_20225/1656484887.py:5: FutureWarning: Setting an item of incompatible dtype is deprecated and will raise an error in a future version of pandas. Value '[nan nan nan ... nan nan nan]' has dtype incompatible with bool, please explicitly cast to a compatible dtype first.\n",
      "  df.loc[null_condition, condition] = df.loc[null_condition, 'Weather_Condition']\n",
      "/var/folders/dp/ptv4cbpd6fvf95gkd_vy0df00000gn/T/ipykernel_20225/1656484887.py:5: FutureWarning: Setting an item of incompatible dtype is deprecated and will raise an error in a future version of pandas. Value '[nan nan nan ... nan nan nan]' has dtype incompatible with bool, please explicitly cast to a compatible dtype first.\n",
      "  df.loc[null_condition, condition] = df.loc[null_condition, 'Weather_Condition']\n",
      "/var/folders/dp/ptv4cbpd6fvf95gkd_vy0df00000gn/T/ipykernel_20225/1656484887.py:5: FutureWarning: Setting an item of incompatible dtype is deprecated and will raise an error in a future version of pandas. Value '[nan nan nan ... nan nan nan]' has dtype incompatible with bool, please explicitly cast to a compatible dtype first.\n",
      "  df.loc[null_condition, condition] = df.loc[null_condition, 'Weather_Condition']\n",
      "/var/folders/dp/ptv4cbpd6fvf95gkd_vy0df00000gn/T/ipykernel_20225/1656484887.py:5: FutureWarning: Setting an item of incompatible dtype is deprecated and will raise an error in a future version of pandas. Value '[nan nan nan ... nan nan nan]' has dtype incompatible with bool, please explicitly cast to a compatible dtype first.\n",
      "  df.loc[null_condition, condition] = df.loc[null_condition, 'Weather_Condition']\n",
      "/var/folders/dp/ptv4cbpd6fvf95gkd_vy0df00000gn/T/ipykernel_20225/1656484887.py:5: FutureWarning: Setting an item of incompatible dtype is deprecated and will raise an error in a future version of pandas. Value '[nan nan nan ... nan nan nan]' has dtype incompatible with bool, please explicitly cast to a compatible dtype first.\n",
      "  df.loc[null_condition, condition] = df.loc[null_condition, 'Weather_Condition']\n"
     ]
    }
   ],
   "source": [
    "weather_conditions = ['Clear', 'Cloud', 'Rain', 'Heavy_Rain', 'Snow', 'Heavy_Snow', 'Fog']\n",
    "\n",
    "for condition in weather_conditions:\n",
    "    null_condition = df['Weather_Condition'].isnull()\n",
    "    df.loc[null_condition, condition] = df.loc[null_condition, 'Weather_Condition']\n",
    "    df[condition] = df[condition].astype(bool)\n",
    "\n",
    "df.loc[:, ['Weather_Condition'] + weather_conditions]\n",
    "\n",
    "df = df.drop('Weather_Condition', axis=1)\n"
   ]
  },
  {
   "cell_type": "code",
   "execution_count": 16,
   "metadata": {},
   "outputs": [],
   "source": [
    "df['Start_Time'] = pd.to_datetime(df['Start_Time'])\n",
    "\n",
    "df['Year'] = df['Start_Time'].dt.year\n",
    "df['Month'] = df['Start_Time'].dt.month\n",
    "df['Weekday'] = df['Start_Time'].dt.weekday\n",
    "df['Hour'] = df['Start_Time'].dt.hour\n",
    "\n",
    "df.loc[:4,['Start_Time', 'Year', 'Month', 'Weekday', 'Hour']]\n",
    "df = df.drop('Start_Time', axis=1)"
   ]
  },
  {
   "cell_type": "code",
   "execution_count": 17,
   "metadata": {},
   "outputs": [
    {
     "data": {
      "text/html": [
       "<div>\n",
       "<style scoped>\n",
       "    .dataframe tbody tr th:only-of-type {\n",
       "        vertical-align: middle;\n",
       "    }\n",
       "\n",
       "    .dataframe tbody tr th {\n",
       "        vertical-align: top;\n",
       "    }\n",
       "\n",
       "    .dataframe thead th {\n",
       "        text-align: right;\n",
       "    }\n",
       "</style>\n",
       "<table border=\"1\" class=\"dataframe\">\n",
       "  <thead>\n",
       "    <tr style=\"text-align: right;\">\n",
       "      <th></th>\n",
       "      <th>Feature</th>\n",
       "      <th>Missing_Percent(%)</th>\n",
       "    </tr>\n",
       "  </thead>\n",
       "  <tbody>\n",
       "    <tr>\n",
       "      <th>3</th>\n",
       "      <td>Street</td>\n",
       "      <td>0.222222</td>\n",
       "    </tr>\n",
       "    <tr>\n",
       "      <th>4</th>\n",
       "      <td>City</td>\n",
       "      <td>0.004334</td>\n",
       "    </tr>\n",
       "    <tr>\n",
       "      <th>10</th>\n",
       "      <td>Temperature(F)</td>\n",
       "      <td>0.544523</td>\n",
       "    </tr>\n",
       "    <tr>\n",
       "      <th>11</th>\n",
       "      <td>Wind_Chill(F)</td>\n",
       "      <td>5.217100</td>\n",
       "    </tr>\n",
       "    <tr>\n",
       "      <th>12</th>\n",
       "      <td>Humidity(%)</td>\n",
       "      <td>0.722616</td>\n",
       "    </tr>\n",
       "    <tr>\n",
       "      <th>13</th>\n",
       "      <td>Pressure(in)</td>\n",
       "      <td>0.198188</td>\n",
       "    </tr>\n",
       "    <tr>\n",
       "      <th>14</th>\n",
       "      <td>Visibility(mi)</td>\n",
       "      <td>0.626872</td>\n",
       "    </tr>\n",
       "    <tr>\n",
       "      <th>15</th>\n",
       "      <td>Wind_Direction</td>\n",
       "      <td>0.982270</td>\n",
       "    </tr>\n",
       "    <tr>\n",
       "      <th>16</th>\n",
       "      <td>Wind_Speed(mph)</td>\n",
       "      <td>1.561860</td>\n",
       "    </tr>\n",
       "    <tr>\n",
       "      <th>30</th>\n",
       "      <td>Sunrise_Sunset</td>\n",
       "      <td>0.561072</td>\n",
       "    </tr>\n",
       "    <tr>\n",
       "      <th>31</th>\n",
       "      <td>Civil_Twilight</td>\n",
       "      <td>0.561072</td>\n",
       "    </tr>\n",
       "    <tr>\n",
       "      <th>32</th>\n",
       "      <td>Nautical_Twilight</td>\n",
       "      <td>0.561072</td>\n",
       "    </tr>\n",
       "    <tr>\n",
       "      <th>33</th>\n",
       "      <td>Astronomical_Twilight</td>\n",
       "      <td>0.561072</td>\n",
       "    </tr>\n",
       "  </tbody>\n",
       "</table>\n",
       "</div>"
      ],
      "text/plain": [
       "                  Feature  Missing_Percent(%)\n",
       "3                  Street            0.222222\n",
       "4                    City            0.004334\n",
       "10         Temperature(F)            0.544523\n",
       "11          Wind_Chill(F)            5.217100\n",
       "12            Humidity(%)            0.722616\n",
       "13           Pressure(in)            0.198188\n",
       "14         Visibility(mi)            0.626872\n",
       "15         Wind_Direction            0.982270\n",
       "16        Wind_Speed(mph)            1.561860\n",
       "30         Sunrise_Sunset            0.561072\n",
       "31         Civil_Twilight            0.561072\n",
       "32      Nautical_Twilight            0.561072\n",
       "33  Astronomical_Twilight            0.561072"
      ]
     },
     "execution_count": 17,
     "metadata": {},
     "output_type": "execute_result"
    }
   ],
   "source": [
    "missing_values = pd.DataFrame(df.isnull().sum(), columns=['Missing_Count']).reset_index()\n",
    "missing_values.columns = ['Feature', 'Missing_Percent(%)']\n",
    "missing_values['Missing_Percent(%)'] = missing_values['Missing_Percent(%)'] / df.shape[0] * 100\n",
    "missing_values = missing_values[missing_values['Missing_Percent(%)'] > 0]\n",
    "missing_values\n"
   ]
  },
  {
   "cell_type": "code",
   "execution_count": 18,
   "metadata": {},
   "outputs": [],
   "source": [
    "# dropping wind chill because it will be hard to impute since it is missing 25% of the data\n",
    "df = df.drop('Wind_Chill(F)', axis=1)"
   ]
  },
  {
   "cell_type": "code",
   "execution_count": 19,
   "metadata": {},
   "outputs": [],
   "source": [
    "df = df.dropna(subset=['Street','City','Zipcode','Airport_Code',\n",
    "                       'Sunrise_Sunset','Civil_Twilight','Nautical_Twilight','Astronomical_Twilight', 'Wind_Direction', 'Precipitation(in)'])"
   ]
  },
  {
   "cell_type": "code",
   "execution_count": 20,
   "metadata": {},
   "outputs": [],
   "source": [
    "# impute missing values with median\n",
    "for column in ['Temperature(F)', 'Humidity(%)', 'Pressure(in)', 'Visibility(mi)', 'Wind_Speed(mph)']:\n",
    "    df[column] = df[column].fillna(df[column].median())"
   ]
  },
  {
   "cell_type": "code",
   "execution_count": 21,
   "metadata": {},
   "outputs": [
    {
     "data": {
      "text/plain": [
       "0"
      ]
     },
     "execution_count": 21,
     "metadata": {},
     "output_type": "execute_result"
    }
   ],
   "source": [
    "df.isnull().sum().sum()"
   ]
  },
  {
   "cell_type": "code",
   "execution_count": 22,
   "metadata": {},
   "outputs": [
    {
     "data": {
      "text/plain": [
       "Index(['Severity', 'Start_Lat', 'Start_Lng', 'Street', 'City', 'County',\n",
       "       'State', 'Zipcode', 'Timezone', 'Airport_Code', 'Temperature(F)',\n",
       "       'Humidity(%)', 'Pressure(in)', 'Visibility(mi)', 'Wind_Direction',\n",
       "       'Wind_Speed(mph)', 'Precipitation(in)', 'Amenity', 'Bump', 'Crossing',\n",
       "       'Give_Way', 'Junction', 'No_Exit', 'Railway', 'Roundabout', 'Station',\n",
       "       'Stop', 'Traffic_Calming', 'Traffic_Signal', 'Sunrise_Sunset',\n",
       "       'Civil_Twilight', 'Nautical_Twilight', 'Astronomical_Twilight', 'Clear',\n",
       "       'Cloud', 'Rain', 'Heavy_Rain', 'Snow', 'Heavy_Snow', 'Fog', 'Year',\n",
       "       'Month', 'Weekday', 'Hour'],\n",
       "      dtype='object')"
      ]
     },
     "execution_count": 22,
     "metadata": {},
     "output_type": "execute_result"
    }
   ],
   "source": [
    "df.columns"
   ]
  },
  {
   "cell_type": "code",
   "execution_count": 24,
   "metadata": {},
   "outputs": [],
   "source": [
    "# save the cleaned data\n",
    "df.to_csv('../data/US_Accidents_March23_cleaned.csv', index=False)\n",
    "\n",
    "# random sample of the cleaned data\n",
    "df.sample(n=10000, random_state=42).to_csv('../data/US_Accidents_March23_cleaned_10000rows.csv', index=False)\n",
    "df.sample(n=100, random_state=42).to_csv('../data/US_Accidents_March23_cleaned_100rows.csv', index=False)"
   ]
  }
 ],
 "metadata": {
  "kernelspec": {
   "display_name": ".venv",
   "language": "python",
   "name": "python3"
  },
  "language_info": {
   "codemirror_mode": {
    "name": "ipython",
    "version": 3
   },
   "file_extension": ".py",
   "mimetype": "text/x-python",
   "name": "python",
   "nbconvert_exporter": "python",
   "pygments_lexer": "ipython3",
   "version": "3.11.5"
  }
 },
 "nbformat": 4,
 "nbformat_minor": 2
}
