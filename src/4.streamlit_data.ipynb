{
 "cells": [
  {
   "cell_type": "code",
   "execution_count": 1,
   "metadata": {},
   "outputs": [],
   "source": [
    "import pandas as pd\n",
    "import json"
   ]
  },
  {
   "cell_type": "code",
   "execution_count": 2,
   "metadata": {},
   "outputs": [],
   "source": [
    "df = pd.read_csv('../data/US_Accidents_March23_cleaned.csv')"
   ]
  },
  {
   "cell_type": "code",
   "execution_count": 3,
   "metadata": {},
   "outputs": [],
   "source": [
    "state_city_county = {}\n",
    "\n",
    "for state, group in df.groupby('State'):\n",
    "    state_city_county[state] = {}\n",
    "    # for each state, iterate over each city, getting the unique county\n",
    "    for city, city_group in group.groupby('City'):\n",
    "        state_city_county[state][city] = city_group['County'].unique().tolist()\n",
    "\n",
    "json_path = '../data/state_city_county.json'\n",
    "with open(json_path, 'w') as f:\n",
    "    json.dump(state_city_county, f, indent=4)"
   ]
  }
 ],
 "metadata": {
  "kernelspec": {
   "display_name": ".venv",
   "language": "python",
   "name": "python3"
  },
  "language_info": {
   "codemirror_mode": {
    "name": "ipython",
    "version": 3
   },
   "file_extension": ".py",
   "mimetype": "text/x-python",
   "name": "python",
   "nbconvert_exporter": "python",
   "pygments_lexer": "ipython3",
   "version": "3.11.5"
  }
 },
 "nbformat": 4,
 "nbformat_minor": 2
}
