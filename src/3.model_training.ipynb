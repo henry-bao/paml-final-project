{
 "cells": [
  {
   "cell_type": "code",
   "execution_count": 14,
   "metadata": {},
   "outputs": [],
   "source": [
    "import joblib\n",
    "\n",
    "import numpy as np\n",
    "import pandas as pd\n",
    "import matplotlib.pyplot as plt\n",
    "import seaborn as sns\n",
    "\n",
    "from sklearn.model_selection import train_test_split\n",
    "\n",
    "from sklearn.ensemble import RandomForestClassifier\n",
    "from sklearn.neighbors import KNeighborsClassifier\n",
    "\n",
    "import sys\n",
    "sys.path.append('..')\n",
    "\n",
    "from models.decision_tree import DecisionTree\n",
    "from sklearn.naive_bayes import GaussianNB"
   ]
  },
  {
   "cell_type": "code",
   "execution_count": 15,
   "metadata": {},
   "outputs": [
    {
     "name": "stdout",
     "output_type": "stream",
     "text": [
      "<class 'pandas.core.frame.DataFrame'>\n",
      "RangeIndex: 249353 entries, 0 to 249352\n",
      "Data columns (total 44 columns):\n",
      " #   Column                 Non-Null Count   Dtype  \n",
      "---  ------                 --------------   -----  \n",
      " 0   Severity               249353 non-null  int64  \n",
      " 1   Start_Lat              249353 non-null  float64\n",
      " 2   Start_Lng              249353 non-null  float64\n",
      " 3   Street                 249353 non-null  object \n",
      " 4   City                   249353 non-null  object \n",
      " 5   County                 249353 non-null  object \n",
      " 6   State                  249353 non-null  object \n",
      " 7   Zipcode                249353 non-null  object \n",
      " 8   Timezone               249353 non-null  object \n",
      " 9   Airport_Code           249353 non-null  object \n",
      " 10  Temperature(F)         249353 non-null  float64\n",
      " 11  Humidity(%)            249353 non-null  float64\n",
      " 12  Pressure(in)           249353 non-null  float64\n",
      " 13  Visibility(mi)         249353 non-null  float64\n",
      " 14  Wind_Direction         249353 non-null  object \n",
      " 15  Wind_Speed(mph)        249353 non-null  float64\n",
      " 16  Precipitation(in)      249353 non-null  float64\n",
      " 17  Amenity                249353 non-null  bool   \n",
      " 18  Bump                   249353 non-null  bool   \n",
      " 19  Crossing               249353 non-null  bool   \n",
      " 20  Give_Way               249353 non-null  bool   \n",
      " 21  Junction               249353 non-null  bool   \n",
      " 22  No_Exit                249353 non-null  bool   \n",
      " 23  Railway                249353 non-null  bool   \n",
      " 24  Roundabout             249353 non-null  bool   \n",
      " 25  Station                249353 non-null  bool   \n",
      " 26  Stop                   249353 non-null  bool   \n",
      " 27  Traffic_Calming        249353 non-null  bool   \n",
      " 28  Traffic_Signal         249353 non-null  bool   \n",
      " 29  Sunrise_Sunset         249353 non-null  object \n",
      " 30  Civil_Twilight         249353 non-null  object \n",
      " 31  Nautical_Twilight      249353 non-null  object \n",
      " 32  Astronomical_Twilight  249353 non-null  object \n",
      " 33  Clear                  249353 non-null  bool   \n",
      " 34  Cloud                  249353 non-null  bool   \n",
      " 35  Rain                   249353 non-null  bool   \n",
      " 36  Heavy_Rain             249353 non-null  bool   \n",
      " 37  Snow                   249353 non-null  bool   \n",
      " 38  Heavy_Snow             249353 non-null  bool   \n",
      " 39  Fog                    249353 non-null  bool   \n",
      " 40  Year                   249353 non-null  int64  \n",
      " 41  Month                  249353 non-null  int64  \n",
      " 42  Weekday                249353 non-null  int64  \n",
      " 43  Hour                   249353 non-null  int64  \n",
      "dtypes: bool(19), float64(8), int64(5), object(12)\n",
      "memory usage: 52.1+ MB\n"
     ]
    }
   ],
   "source": [
    "df = pd.read_csv('../data/US_Accidents_March23_cleaned.csv')\n",
    "df.info()"
   ]
  },
  {
   "cell_type": "code",
   "execution_count": 16,
   "metadata": {},
   "outputs": [],
   "source": [
    "df = df.drop(['Zipcode', 'Airport_Code','Street', 'Year', 'Start_Lat', 'Start_Lng', \"Timezone\"], axis=1)"
   ]
  },
  {
   "cell_type": "code",
   "execution_count": 17,
   "metadata": {},
   "outputs": [
    {
     "data": {
      "text/plain": [
       "Index(['Severity', 'City', 'County', 'State', 'Temperature(F)', 'Humidity(%)',\n",
       "       'Pressure(in)', 'Visibility(mi)', 'Wind_Direction', 'Wind_Speed(mph)',\n",
       "       'Precipitation(in)', 'Amenity', 'Bump', 'Crossing', 'Give_Way',\n",
       "       'Junction', 'No_Exit', 'Railway', 'Roundabout', 'Station', 'Stop',\n",
       "       'Traffic_Calming', 'Traffic_Signal', 'Sunrise_Sunset', 'Civil_Twilight',\n",
       "       'Nautical_Twilight', 'Astronomical_Twilight', 'Clear', 'Cloud', 'Rain',\n",
       "       'Heavy_Rain', 'Snow', 'Heavy_Snow', 'Fog', 'Month', 'Weekday', 'Hour'],\n",
       "      dtype='object')"
      ]
     },
     "execution_count": 17,
     "metadata": {},
     "output_type": "execute_result"
    }
   ],
   "source": [
    "df.columns"
   ]
  },
  {
   "cell_type": "code",
   "execution_count": 18,
   "metadata": {},
   "outputs": [
    {
     "name": "stdout",
     "output_type": "stream",
     "text": [
      "Severity\n",
      "[2 3 4 1]\n",
      "4 1\n",
      "4\n",
      "\n",
      "City\n",
      "['Latham' 'Buena Park' 'Kansas City' ... 'Borden' 'Bryceville'\n",
      " 'East Patchogue']\n",
      "Zwingle Abbeville\n",
      "8455\n",
      "\n",
      "County\n",
      "['Albany' 'Orange' 'Wyandotte' ... 'Nueces' 'Fentress' 'Neosho']\n",
      "Yuma Abbeville\n",
      "1522\n",
      "\n",
      "State\n",
      "['NY' 'CA' 'KS' 'FL' 'UT' 'WY' 'OR' 'CO' 'MN' 'MD' 'OH' 'LA' 'NC' 'MI'\n",
      " 'MO' 'PA' 'SC' 'NJ' 'VA' 'TX' 'GA' 'TN' 'CT' 'MS' 'MA' 'WA' 'AZ' 'DC'\n",
      " 'AL' 'NH' 'IL' 'NV' 'MT' 'OK' 'RI' 'IN' 'IA' 'KY' 'DE' 'NE' 'NM' 'WV'\n",
      " 'ND' 'WI' 'ID' 'AR' 'VT' 'ME' 'SD']\n",
      "WY AL\n",
      "49\n",
      "\n",
      "Temperature(F)\n",
      "[ 40.   61.   75.   54.   55.   66.   73.   27.   84.   46.   80.   62.\n",
      "  21.   11.   77.   39.   67.   63.   29.   41.   53.   52.   47.   37.\n",
      "  58.   90.   36.   97.   43.   65.   23.   49.   57.   64.   72.   48.\n",
      "  85.   45.   74.   91.   78.   50.   76.   79.   83.   87.   71.   96.\n",
      "  70.   26.   89.   34.   82.   81.   69.   46.9  86.  101.   35.    7.\n",
      "  88.   59.   68.   33.   31.  103.  102.   42.   57.9  32.   60.   38.\n",
      "  33.1  94.   51.   93.   12.   25.   44.   80.6  92.   62.1  20.   10.\n",
      "  56.    9.   16.   95.   24.   22.   -6.   60.1  30.   28.    5.   73.9\n",
      "  18.   28.9  15.   30.2  53.1  35.6  17.   19.    3.   19.9  51.8  69.1\n",
      "  64.4  75.2 107.   39.9   6.  -11.   78.1 115.   13.   -3.   42.1   2.\n",
      "  14.   44.1  55.9  30.9  71.1  24.1  66.2  87.1  98.   37.9  26.1   8.\n",
      "  -2.  104.    0.   51.1 100.   64.9  82.4  75.9  -8.   46.4  12.9 106.\n",
      " 108.  -15.   -7.    1.  -13.  105.   99.  112.   37.4  55.4  -1.   -5.\n",
      "  73.4  66.9  80.1 110.   42.8  21.9  43.9  15.1  35.1 -26.   68.5  48.9\n",
      "  -4.   -9.   84.9  44.6  82.9   4.   53.6  19.4 109.   71.6  17.1  48.2\n",
      " -19.  111.    8.6  74.8 -14.    6.1  66.4  22.1  57.2  40.1  71.2  69.8\n",
      " -12.   33.8  28.4  54.5  60.8   8.1  73.2 -20.   41.9 -18.   10.9  89.1\n",
      " -10.   78.8  59.2 114.   49.1  26.6  39.2   1.9  76.6  56.5  24.4  73.6\n",
      "  52.9  70.3 100.9 -35.   73.8  50.9  55.2  24.8 113.   57.4  50.4  72.1\n",
      " -16.   47.5  36.5  62.6  45.9  41.2   3.9  44.2  25.2  57.6  63.9  59.7\n",
      "  43.5  13.3  67.1  75.4  63.7  67.6  84.6  65.8  19.8  43.7  70.2  59.4\n",
      "  61.2  56.7  54.7  34.7  51.4  23.9 -17.   64.8  45.7  58.3  74.3  15.8\n",
      "  66.7  44.8  50.7  39.4  78.4  68.2  30.4  38.3  29.7  38.8  35.4  87.8\n",
      "  53.8  49.8  56.3  52.2  63.3  56.1  68.9  46.8  21.2  77.2  51.3  85.1\n",
      "  31.6   1.4  33.3  84.2  27.5  75.6  60.6  70.5  63.1  52.5  47.1  27.7\n",
      "  65.3  62.2  40.3  58.6  42.6  39.7  76.5  49.5  26.2  65.7 -24.   30.7\n",
      "  62.8  68.4  -2.9  49.6  -0.9  69.3  91.9  61.9  36.9  34.5  16.2  72.5\n",
      "  77.7  47.3  32.2  69.4  52.7  12.2  28.6  38.5  69.6  23.5  32.7 -11.9\n",
      "  67.3  64.2  29.8  82.6  23.4  29.3  43.3  36.1  72.7  22.8  -7.1  31.1\n",
      "  60.3  72.3  74.5  61.5  79.7  26.4  98.1  53.2  58.1  54.1  72.9  38.7\n",
      "  26.8  65.5  42.3  17.6  83.3  55.8  32.4  57.7  74.7  40.5  42.4  74.1\n",
      "  37.8  41.7  59.5   6.4  67.5  24.6  79.5  60.4  79.2  76.8   6.8  85.3\n",
      "  29.1  78.3   3.2  50.5  61.7  70.7  44.4  -0.4  25.3  82.8  45.3  75.7\n",
      "  58.8  33.4  32.9  -5.1  58.5 116.   35.2  19.6  95.2  41.5  64.6  20.3\n",
      "  45.5 162.   66.6  31.8  48.4  46.6  25.9  93.9  17.4   7.7 140.   71.8\n",
      "  35.8  27.1  79.3  43.2  77.4  28.8  10.4  53.4  83.5 -37.   27.9  52.3\n",
      "  30.6  39.6  50.2  91.2  91.8]\n",
      "162.0 -37.0\n",
      "437\n",
      "\n",
      "Humidity(%)\n",
      "[ 53.  75.  87.  97.  82.  45.  81.  58.  68.  76.  50.  94.  78.  77.\n",
      "  74.  47.  93.  84.  85.  86.  54.  22.  70.  16. 100.  62.  72.  89.\n",
      "  49.  67.  90.  52.  69.  65.  46.  51.  18.  40.  56.  15.  57.  41.\n",
      "  59.  36.  32.  28.  73.  60.  71.  27.  21.  96.  19.  43.  88.  66.\n",
      "  64.  44.  61.   9.  31.  10.   7.  80.  92.  34.  39.  55.  37.  23.\n",
      "  26.  63.  79.  17.  35.  14.  20.  30.   6.  24.  38.  48.  83.  12.\n",
      "  42.  33.   8.   5.  25.  29.  13.  91.  11.  99.  98.  95.   4.   3.\n",
      "   2.]\n",
      "100.0 2.0\n",
      "99\n",
      "\n",
      "Pressure(in)\n",
      "[29.58 29.82 29.18 29.89 28.46 30.07 29.95 29.92 29.87 25.41 29.97 30.03\n",
      " 29.99 30.14 23.11 27.05 29.84 30.16 24.2  30.17 29.65 29.03 29.61 29.59\n",
      " 29.81 29.21 29.86 29.06 29.47 30.06 29.04 30.02 25.57 29.94 27.6  30.05\n",
      " 29.68 28.47 29.17 29.88 30.01 29.93 28.98 30.13 29.3  30.23 29.62 29.91\n",
      " 30.21 25.67 29.31 29.96 27.13 29.85 30.   29.1  29.77 29.39 29.67 29.6\n",
      " 28.76 29.28 29.76 29.48 29.8  29.98 29.57 28.73 30.04 30.24 28.77 30.1\n",
      " 30.26 29.5  29.79 29.2  25.14 30.11 30.18 27.06 25.46 27.21 28.8  29.46\n",
      " 29.01 26.45 27.82 29.29 30.15 29.78 25.02 29.69 29.34 29.36 29.08 28.75\n",
      " 29.44 28.64 29.71 30.31 25.2  23.99 29.7  27.81 30.08 24.44 29.25 25.69\n",
      " 28.43 29.38 29.83 29.12 30.2  29.26 28.22 29.4  28.58 29.16 28.54 27.92\n",
      " 29.35 30.12 29.15 29.72 29.42 29.74 29.43 29.13 29.75 28.74 24.03 27.7\n",
      " 28.33 30.32 29.63 28.99 25.17 29.07 28.66 29.41 29.9  28.96 28.69 28.67\n",
      " 29.37 29.24 25.55 27.87 30.54 28.94 29.33 29.27 30.19 30.09 29.11 28.9\n",
      " 29.   29.66 28.95 28.5  28.51 24.45 29.51 27.56 28.31 24.1  25.42 26.55\n",
      " 29.55 29.73 25.48 30.39 29.53 28.52 29.64 25.76 29.22 29.56 28.82 28.91\n",
      " 26.86 23.41 30.27 29.19 28.57 29.45 26.94 29.14 28.41 28.44 28.6  30.29\n",
      " 24.92 28.87 26.19 29.32 30.36 25.23 28.65 29.49 27.18 29.52 28.35 28.18\n",
      " 25.05 27.22 28.85 25.75 28.06 30.22 28.97 28.62 28.55 27.16 29.54 29.02\n",
      " 23.65 27.19 25.61 23.94 28.93 28.29 30.33 26.03 28.72 25.58 27.46 28.48\n",
      " 24.5  27.24 28.79 26.74 28.59 26.33 28.83 28.88 24.54 28.11 25.45 26.2\n",
      " 27.93 26.05 30.45 30.38 27.34 29.05 26.66 28.68 28.4  25.32 25.68 28.34\n",
      " 23.81 24.88 30.25 25.63 27.2  30.46 28.42 28.14 29.23 30.3  26.96 26.09\n",
      " 26.38 28.09 30.52 24.36 28.78 28.37 24.85 30.41 28.05 27.41 27.27 27.25\n",
      " 27.36 30.47 25.82 29.09 26.87 26.52 26.58 24.8  28.2  23.4  28.71 24.37\n",
      " 25.5  26.6  26.92 24.61 30.28 25.66 30.35 27.53 30.34 24.38 25.65 28.92\n",
      " 28.04 25.51 24.28 25.29 28.   30.57 27.52 21.04 30.51 28.49 28.89 28.61\n",
      " 25.44 30.37 23.46 25.36 20.24 26.12 23.29 27.23 25.53 26.79 27.88 25.7\n",
      " 25.59 27.96 28.3  24.09 27.68 24.43 27.91 26.15 27.86 28.63 28.24 27.15\n",
      " 23.95 27.76 28.84 27.57 28.86 28.7  30.56 27.03 27.26 28.36 23.64 25.73\n",
      " 28.38 20.98 25.72 28.19 27.73 28.45 25.88 30.43 25.99 25.08 27.43 27.89\n",
      " 26.8  27.35 25.49 27.32 26.47 24.33 26.01 26.73 26.64 28.32 28.56 27.55\n",
      " 26.49 27.51 24.11 24.72 27.84 24.39 26.   26.93 27.49 30.48 25.4  27.3\n",
      " 27.12 25.33 26.4  25.39 28.21 27.62 25.77 27.33 26.13 24.12 25.8  25.27\n",
      " 28.1  27.85 26.82 27.42 26.5  26.76 25.38 23.92 24.68 27.29 24.89 26.98\n",
      " 26.32 24.95 24.79 27.09 24.26 24.19 25.35 28.25 25.95 26.7  27.02 25.21\n",
      " 24.6  26.95 27.11 25.26 26.11 30.4  24.07 28.15 26.71 24.31 28.08 27.07\n",
      " 27.64 30.49 27.17 26.54 26.35 30.5  30.67 25.64 23.83 25.3  26.06 27.31\n",
      " 24.32 27.45 24.51 26.85 26.37 27.8  24.63 26.21 27.63 39.45 25.62 25.74\n",
      " 23.76 26.97 24.24 26.69 27.01 25.19 27.58 30.53 27.83 25.56 27.97 27.\n",
      " 25.93 26.62 28.27 28.16 26.04 25.03 30.44 27.38 24.49 25.85 20.86 28.26\n",
      " 27.04 24.41 25.79 27.08 26.34 24.73 26.23 25.78 25.12 25.31 25.28 25.6\n",
      " 27.66 28.17 28.39 26.39 25.37 28.53 25.52 24.62 27.99 20.51 28.81 24.29\n",
      " 26.3  26.16 26.14 20.85 24.21 26.18 24.84 26.61 24.52 26.31 26.72 25.15\n",
      " 27.28 20.37 27.4  30.76 24.14 22.72 24.93 27.9  28.01 25.94 27.5  24.27\n",
      " 28.07 24.96 24.81 25.97 24.57 23.44 24.48 27.67 27.59 24.99 27.65 20.99\n",
      " 58.39 30.6  26.63 23.04 28.03 24.35 25.09 25.86 24.56 23.42 20.97 28.12\n",
      " 25.54 26.02 28.13 26.81 20.68 28.23 26.53 24.55 24.02 24.74 25.43 27.39\n",
      " 24.91 27.95 30.69 26.84 23.88 24.06 25.91 27.94 24.17 24.7  30.55 25.81\n",
      " 25.83 24.4  26.99 28.02 25.92 24.01 25.04 24.18 27.1  26.9  25.18 23.1\n",
      " 22.36 23.45 24.46 25.34 26.88 28.28 25.9  27.71 25.24 27.37 23.75 23.6\n",
      " 27.75 21.2  24.47 26.68 22.28 24.75 26.67 25.01 25.07 30.42 27.72 21.08\n",
      " 26.89 23.96 30.61 24.34 25.98 24.   25.71 30.65 27.14 24.22 26.42 26.91\n",
      " 26.29 27.77 26.77 23.56 25.87 23.23 23.31 27.69 24.98 22.29 26.78 24.58\n",
      " 24.3  25.06 24.94 27.78 26.56 25.96 23.15 27.44 27.48 25.22 23.8  26.41\n",
      " 23.43 23.84 23.67 20.77 26.28 20.69 23.28 23.73 23.68 25.89 24.04 24.9\n",
      " 25.47 23.5  30.63 22.83 26.25 24.78 20.71 23.47 27.47 24.77 23.19 23.53\n",
      " 23.89 24.23 24.13 24.87 20.46 26.36 24.97 23.62 24.69 25.13 26.46 27.54\n",
      " 24.82 26.17 26.83 27.61 26.75 22.47 23.98 27.74 26.24 24.83 26.1  30.62\n",
      " 20.79 20.8  23.9  26.08 25.11 21.03 30.59 20.75 23.78 27.98 25.84 23.17\n",
      " 23.34 24.53 24.65 23.93 27.79 23.58 23.54 30.72 23.61 24.25 23.55 24.59\n",
      " 24.42 26.22 23.97 25.   26.27 23.51 26.57 23.69 24.16 20.43 21.12 23.85\n",
      " 26.59 25.1  20.6  24.66 20.95 22.6  25.25 24.67 24.76 22.97 26.51 22.76\n",
      " 23.7  23.36 21.15 22.68 23.26 26.48 26.26 23.38 20.81 24.15 26.44 24.05\n",
      " 30.58 20.64 23.27 23.24 23.35 23.12 26.07 23.16 23.   23.91 23.72 20.44\n",
      " 22.98 24.64 23.48 23.87 22.5  22.8  22.7  23.71 23.59 26.65 22.16 20.89\n",
      " 25.16 22.56 22.32 22.87 23.37 23.06 24.71 22.67 24.86 21.05 23.22 22.58\n",
      " 20.57 23.57 22.77 23.52 23.32 20.58 23.18 22.85 23.82 22.9  20.49 23.2\n",
      " 21.02 20.73 22.59 23.33 23.08 22.65 23.13 22.93 23.21 30.68 22.4  20.88\n",
      " 20.9  20.38 30.64 24.08 30.71 23.07 22.15 20.66 30.7  21.13 23.39 22.78\n",
      " 22.94 22.88 20.87 23.02 23.14 22.99 20.67 20.26 22.91 30.66 20.53 20.42\n",
      " 23.03 23.25 20.72 20.36 21.09 22.81 22.92 20.93 22.95 23.79 23.74 23.86\n",
      " 23.66 20.45 22.84 23.49 23.63 20.54 23.3  26.43 30.81 22.27 20.62 22.69\n",
      " 22.34 22.25 22.74 20.39 20.74 22.79 20.47 22.51 23.01 20.91 21.01 23.05\n",
      " 21.27 22.89 21.06 20.96 21.99 22.66 22.41 23.77 22.53 20.84 20.82 22.39\n",
      " 20.65 20.78 22.73 22.63 23.09 20.56 22.49 22.96 21.07 20.33 21.25 21.46\n",
      " 22.82 20.61 21.   20.32 22.48 22.55 21.1  22.23 20.63 22.86 20.08 20.59\n",
      " 21.95 22.33 22.11 20.92 20.15 20.83 22.71 20.7  22.57 20.55 20.94 19.94\n",
      " 22.06 22.37 20.5  22.52 22.13 21.11 22.46 22.01 20.48 20.06 20.27 22.02\n",
      " 22.35 22.75 20.02 21.39 20.76 20.4  21.22 22.26 20.34 22.31 21.88 30.73\n",
      " 22.54 21.26 22.44 19.64]\n",
      "58.39 19.64\n",
      "952\n",
      "\n",
      "Visibility(mi)\n",
      "[1.0e+01 7.0e+00 1.0e+00 4.0e+00 9.0e+00 2.0e+00 3.0e+00 5.0e+00 6.0e+00\n",
      " 8.0e+00 2.5e-01 2.0e-01 5.0e-01 7.5e-01 0.0e+00 1.3e+01 1.5e+00 1.2e-01\n",
      " 2.5e+00 8.0e-01 4.0e+01 2.0e+01 1.2e+00 6.3e-01 1.8e+00 1.5e+01 3.0e+01\n",
      " 8.0e+01 2.5e+01 3.8e-01 5.0e+01 3.5e+01 6.0e-02 4.0e-01 6.0e-01 1.0e-01\n",
      " 8.8e-01 7.5e+01 6.0e+01 4.5e+01 2.2e+01 7.0e+01 1.2e+01 4.7e+01 9.0e-01\n",
      " 1.1e+00 1.9e-01 2.8e+00]\n",
      "80.0 0.0\n",
      "48\n",
      "\n",
      "Wind_Direction\n",
      "['S' 'NE' 'E' 'CALM' 'N' 'SE' 'VAR' 'SW' 'W' 'NW']\n",
      "W CALM\n",
      "10\n",
      "\n",
      "Wind_Speed(mph)\n",
      "[  9.    5.   15.    0.    3.    7.    8.   35.   13.   12.    6.   10.\n",
      "  20.   14.   16.    9.2  13.8   6.9  21.   11.5  17.   22.    4.6   3.5\n",
      "   8.1  18.   25.   32.   23.   33.   24.    5.8  10.4  17.3  29.   16.1\n",
      "  12.7  26.   20.7  19.6  24.2  18.4  30.   21.9  31.    2.   28.   36.\n",
      "  37.   39.   26.5  34.5  46.   31.1  25.3   1.   36.8  28.8  38.   43.\n",
      "  40.3  40.   27.6  44.   45.    1.2  33.4  29.9 131.   47.   35.7  32.2\n",
      " 175.   42.6 161.   59.   41.   68.   44.9   2.3  41.4  81.   53.  132.\n",
      "  61. ]\n",
      "175.0 0.0\n",
      "85\n",
      "\n",
      "Precipitation(in)\n",
      "[0.000e+00 9.000e-02 3.000e-02 6.000e-02 2.000e-02 1.000e-02 4.000e-02\n",
      " 5.000e-02 4.700e-01 7.000e-02 3.900e-01 1.800e-01 2.400e-01 1.400e-01\n",
      " 4.400e-01 1.900e-01 1.300e-01 1.000e-01 2.100e-01 8.000e-02 1.200e-01\n",
      " 1.500e-01 1.600e-01 2.500e-01 2.700e-01 3.500e-01 2.000e-01 5.400e-01\n",
      " 7.100e-01 1.100e-01 3.100e-01 2.300e-01 3.400e-01 4.200e-01 3.000e-01\n",
      " 3.300e-01 1.700e-01 5.500e-01 5.100e-01 5.600e-01 7.000e-01 2.600e-01\n",
      " 6.500e-01 1.950e+00 4.300e-01 2.200e-01 3.800e-01 1.070e+00 6.800e-01\n",
      " 3.200e-01 1.570e+00 4.500e-01 5.300e-01 2.800e-01 3.600e-01 6.400e-01\n",
      " 8.000e-01 5.700e-01 2.900e-01 4.000e-01 5.200e-01 4.100e-01 9.000e-01\n",
      " 1.010e+00 6.300e-01 5.900e-01 1.150e+00 6.000e-01 1.080e+00 9.200e-01\n",
      " 5.000e-01 4.600e-01 6.700e-01 3.700e-01 6.600e-01 5.800e-01 9.700e-01\n",
      " 4.900e-01 9.970e+00 1.140e+00 4.800e-01 8.200e-01 7.500e-01 1.020e+00\n",
      " 9.400e-01 1.090e+00 1.680e+00 6.100e-01 8.600e-01 1.100e+00 1.030e+00\n",
      " 7.700e-01 9.500e-01 1.001e+01 9.300e-01 1.130e+00 1.050e+00 7.600e-01\n",
      " 8.900e-01 6.200e-01 7.400e-01 1.520e+00 6.900e-01 7.800e-01 1.160e+00\n",
      " 2.400e+00 1.000e+01 1.170e+00 1.120e+00 8.500e-01 8.300e-01 1.430e+00\n",
      " 1.400e+00 1.690e+00 1.450e+00 8.100e-01 9.990e+00 9.960e+00 1.290e+00\n",
      " 2.430e+00 9.980e+00 1.000e+00 7.300e-01 9.600e-01 8.700e-01 9.900e-01\n",
      " 2.140e+00 1.990e+00 7.200e-01 1.040e+00 9.800e-01 1.440e+00 1.340e+00\n",
      " 1.240e+00 1.760e+00 7.900e-01 2.420e+00 1.370e+00 1.350e+00 1.410e+00\n",
      " 1.540e+00 1.180e+00 1.390e+00 9.900e+00 1.530e+00 1.190e+00 9.100e-01\n",
      " 1.250e+00 1.110e+00 8.400e-01 1.320e+00 1.002e+01 1.230e+00 1.630e+00\n",
      " 1.200e+00 1.650e+00 3.000e+00 3.190e+00 2.740e+00 1.380e+00 1.360e+00]\n",
      "10.02 0.0\n",
      "161\n",
      "\n",
      "Amenity\n",
      "[False  True]\n",
      "True False\n",
      "2\n",
      "\n",
      "Bump\n",
      "[False  True]\n",
      "True False\n",
      "2\n",
      "\n",
      "Crossing\n",
      "[False  True]\n",
      "True False\n",
      "2\n",
      "\n",
      "Give_Way\n",
      "[False  True]\n",
      "True False\n",
      "2\n",
      "\n",
      "Junction\n",
      "[False  True]\n",
      "True False\n",
      "2\n",
      "\n",
      "No_Exit\n",
      "[False  True]\n",
      "True False\n",
      "2\n",
      "\n",
      "Railway\n",
      "[False  True]\n",
      "True False\n",
      "2\n",
      "\n",
      "Roundabout\n",
      "[False  True]\n",
      "True False\n",
      "2\n",
      "\n",
      "Station\n",
      "[False  True]\n",
      "True False\n",
      "2\n",
      "\n",
      "Stop\n",
      "[False  True]\n",
      "True False\n",
      "2\n",
      "\n",
      "Traffic_Calming\n",
      "[False  True]\n",
      "True False\n",
      "2\n",
      "\n",
      "Traffic_Signal\n",
      "[False  True]\n",
      "True False\n",
      "2\n",
      "\n",
      "Sunrise_Sunset\n",
      "['Day' 'Night']\n",
      "Night Day\n",
      "2\n",
      "\n",
      "Civil_Twilight\n",
      "['Day' 'Night']\n",
      "Night Day\n",
      "2\n",
      "\n",
      "Nautical_Twilight\n",
      "['Day' 'Night']\n",
      "Night Day\n",
      "2\n",
      "\n",
      "Astronomical_Twilight\n",
      "['Day' 'Night']\n",
      "Night Day\n",
      "2\n",
      "\n",
      "Clear\n",
      "[False  True]\n",
      "True False\n",
      "2\n",
      "\n",
      "Cloud\n",
      "[ True False]\n",
      "True False\n",
      "2\n",
      "\n",
      "Rain\n",
      "[False  True]\n",
      "True False\n",
      "2\n",
      "\n",
      "Heavy_Rain\n",
      "[False  True]\n",
      "True False\n",
      "2\n",
      "\n",
      "Snow\n",
      "[False  True]\n",
      "True False\n",
      "2\n",
      "\n",
      "Heavy_Snow\n",
      "[False  True]\n",
      "True False\n",
      "2\n",
      "\n",
      "Fog\n",
      "[False  True]\n",
      "True False\n",
      "2\n",
      "\n",
      "Month\n",
      "[ 2  5  7  1 11  3  6 12 10  4  8  9]\n",
      "12 1\n",
      "12\n",
      "\n",
      "Weekday\n",
      "[2 0 5 3 1 4 6]\n",
      "6 0\n",
      "7\n",
      "\n",
      "Hour\n",
      "[15  6 19 10  0 12  7 18 16 21  8 13  4 17 14  9 23  5 11  2 20  1  3 22]\n",
      "23 0\n",
      "24\n",
      "\n"
     ]
    }
   ],
   "source": [
    "# print all unique values in each column\n",
    "for col in df.columns:\n",
    "    print(col)\n",
    "    print(df[col].unique())\n",
    "    print(df[col].max(), df[col].min())\n",
    "    print(df[col].unique().size)\n",
    "    print()"
   ]
  },
  {
   "cell_type": "code",
   "execution_count": 19,
   "metadata": {},
   "outputs": [
    {
     "data": {
      "image/png": "[encoded data removed]",
      "text/plain": [
       "<Figure size 640x480 with 1 Axes>"
      ]
     },
     "metadata": {},
     "output_type": "display_data"
    }
   ],
   "source": [
    "sns.countplot(x='Severity', data=df)\n",
    "plt.show()"
   ]
  },
  {
   "cell_type": "code",
   "execution_count": 20,
   "metadata": {},
   "outputs": [
    {
     "data": {
      "text/plain": [
       "(((199482, 10064), (199482,)), ((49871, 10064), (49871,)))"
      ]
     },
     "execution_count": 20,
     "metadata": {},
     "output_type": "execute_result"
    }
   ],
   "source": [
    "df_dummy = pd.get_dummies(df, drop_first=True)\n",
    "\n",
    "target='Severity'\n",
    "\n",
    "y = df_dummy[target]\n",
    "X = df_dummy.drop(target, axis=1)\n",
    "\n",
    "X_train, X_test, y_train, y_test = train_test_split(X, y, test_size=0.2, random_state=43)\n",
    "(X_train.shape, y_train.shape), (X_test.shape, y_test.shape)"
   ]
  },
  {
   "cell_type": "code",
   "execution_count": 9,
   "metadata": {},
   "outputs": [
    {
     "data": {
      "text/plain": [
       "['../models/model_columns.pkl']"
      ]
     },
     "execution_count": 9,
     "metadata": {},
     "output_type": "execute_result"
    }
   ],
   "source": [
    "joblib.dump(X, '../models/model_columns.pkl')"
   ]
  },
  {
   "cell_type": "markdown",
   "metadata": {},
   "source": [
    "# Model Training"
   ]
  },
  {
   "cell_type": "markdown",
   "metadata": {},
   "source": [
    "## Helper Functions"
   ]
  },
  {
   "cell_type": "code",
   "execution_count": 21,
   "metadata": {},
   "outputs": [],
   "source": [
    "def get_accuracy(prediction_labels, true_labels):    \n",
    "    num_correct = np.sum(prediction_labels == true_labels)\n",
    "    accuracy = num_correct / len(true_labels)\n",
    "    return accuracy"
   ]
  },
  {
   "cell_type": "markdown",
   "metadata": {},
   "source": [
    "## Random Forest"
   ]
  },
  {
   "cell_type": "code",
   "execution_count": 19,
   "metadata": {},
   "outputs": [
    {
     "ename": "KeyboardInterrupt",
     "evalue": "",
     "output_type": "error",
     "traceback": [
      "\u001b[0;31m---------------------------------------------------------------------------\u001b[0m",
      "\u001b[0;31mKeyboardInterrupt\u001b[0m                         Traceback (most recent call last)",
      "Cell \u001b[0;32mIn[19], line 2\u001b[0m\n\u001b[1;32m      1\u001b[0m rf \u001b[38;5;241m=\u001b[39m RandomForestClassifier(n_estimators\u001b[38;5;241m=\u001b[39m\u001b[38;5;241m100\u001b[39m)\n\u001b[0;32m----> 2\u001b[0m \u001b[43mrf\u001b[49m\u001b[38;5;241;43m.\u001b[39;49m\u001b[43mfit\u001b[49m\u001b[43m(\u001b[49m\u001b[43mX_train\u001b[49m\u001b[43m,\u001b[49m\u001b[43m \u001b[49m\u001b[43my_train\u001b[49m\u001b[43m)\u001b[49m\n\u001b[1;32m      3\u001b[0m rf_pred\u001b[38;5;241m=\u001b[39mrf\u001b[38;5;241m.\u001b[39mpredict(X_test)\n",
      "File \u001b[0;32m~/Desktop/paml-final-project/.venv/lib/python3.11/site-packages/sklearn/base.py:1474\u001b[0m, in \u001b[0;36m_fit_context.<locals>.decorator.<locals>.wrapper\u001b[0;34m(estimator, *args, **kwargs)\u001b[0m\n\u001b[1;32m   1467\u001b[0m     estimator\u001b[38;5;241m.\u001b[39m_validate_params()\n\u001b[1;32m   1469\u001b[0m \u001b[38;5;28;01mwith\u001b[39;00m config_context(\n\u001b[1;32m   1470\u001b[0m     skip_parameter_validation\u001b[38;5;241m=\u001b[39m(\n\u001b[1;32m   1471\u001b[0m         prefer_skip_nested_validation \u001b[38;5;129;01mor\u001b[39;00m global_skip_validation\n\u001b[1;32m   1472\u001b[0m     )\n\u001b[1;32m   1473\u001b[0m ):\n\u001b[0;32m-> 1474\u001b[0m     \u001b[38;5;28;01mreturn\u001b[39;00m \u001b[43mfit_method\u001b[49m\u001b[43m(\u001b[49m\u001b[43mestimator\u001b[49m\u001b[43m,\u001b[49m\u001b[43m \u001b[49m\u001b[38;5;241;43m*\u001b[39;49m\u001b[43margs\u001b[49m\u001b[43m,\u001b[49m\u001b[43m \u001b[49m\u001b[38;5;241;43m*\u001b[39;49m\u001b[38;5;241;43m*\u001b[39;49m\u001b[43mkwargs\u001b[49m\u001b[43m)\u001b[49m\n",
      "File \u001b[0;32m~/Desktop/paml-final-project/.venv/lib/python3.11/site-packages/sklearn/ensemble/_forest.py:489\u001b[0m, in \u001b[0;36mBaseForest.fit\u001b[0;34m(self, X, y, sample_weight)\u001b[0m\n\u001b[1;32m    478\u001b[0m trees \u001b[38;5;241m=\u001b[39m [\n\u001b[1;32m    479\u001b[0m     \u001b[38;5;28mself\u001b[39m\u001b[38;5;241m.\u001b[39m_make_estimator(append\u001b[38;5;241m=\u001b[39m\u001b[38;5;28;01mFalse\u001b[39;00m, random_state\u001b[38;5;241m=\u001b[39mrandom_state)\n\u001b[1;32m    480\u001b[0m     \u001b[38;5;28;01mfor\u001b[39;00m i \u001b[38;5;129;01min\u001b[39;00m \u001b[38;5;28mrange\u001b[39m(n_more_estimators)\n\u001b[1;32m    481\u001b[0m ]\n\u001b[1;32m    483\u001b[0m \u001b[38;5;66;03m# Parallel loop: we prefer the threading backend as the Cython code\u001b[39;00m\n\u001b[1;32m    484\u001b[0m \u001b[38;5;66;03m# for fitting the trees is internally releasing the Python GIL\u001b[39;00m\n\u001b[1;32m    485\u001b[0m \u001b[38;5;66;03m# making threading more efficient than multiprocessing in\u001b[39;00m\n\u001b[1;32m    486\u001b[0m \u001b[38;5;66;03m# that case. However, for joblib 0.12+ we respect any\u001b[39;00m\n\u001b[1;32m    487\u001b[0m \u001b[38;5;66;03m# parallel_backend contexts set at a higher level,\u001b[39;00m\n\u001b[1;32m    488\u001b[0m \u001b[38;5;66;03m# since correctness does not rely on using threads.\u001b[39;00m\n\u001b[0;32m--> 489\u001b[0m trees \u001b[38;5;241m=\u001b[39m \u001b[43mParallel\u001b[49m\u001b[43m(\u001b[49m\n\u001b[1;32m    490\u001b[0m \u001b[43m    \u001b[49m\u001b[43mn_jobs\u001b[49m\u001b[38;5;241;43m=\u001b[39;49m\u001b[38;5;28;43mself\u001b[39;49m\u001b[38;5;241;43m.\u001b[39;49m\u001b[43mn_jobs\u001b[49m\u001b[43m,\u001b[49m\n\u001b[1;32m    491\u001b[0m \u001b[43m    \u001b[49m\u001b[43mverbose\u001b[49m\u001b[38;5;241;43m=\u001b[39;49m\u001b[38;5;28;43mself\u001b[39;49m\u001b[38;5;241;43m.\u001b[39;49m\u001b[43mverbose\u001b[49m\u001b[43m,\u001b[49m\n\u001b[1;32m    492\u001b[0m \u001b[43m    \u001b[49m\u001b[43mprefer\u001b[49m\u001b[38;5;241;43m=\u001b[39;49m\u001b[38;5;124;43m\"\u001b[39;49m\u001b[38;5;124;43mthreads\u001b[39;49m\u001b[38;5;124;43m\"\u001b[39;49m\u001b[43m,\u001b[49m\n\u001b[1;32m    493\u001b[0m \u001b[43m\u001b[49m\u001b[43m)\u001b[49m\u001b[43m(\u001b[49m\n\u001b[1;32m    494\u001b[0m \u001b[43m    \u001b[49m\u001b[43mdelayed\u001b[49m\u001b[43m(\u001b[49m\u001b[43m_parallel_build_trees\u001b[49m\u001b[43m)\u001b[49m\u001b[43m(\u001b[49m\n\u001b[1;32m    495\u001b[0m \u001b[43m        \u001b[49m\u001b[43mt\u001b[49m\u001b[43m,\u001b[49m\n\u001b[1;32m    496\u001b[0m \u001b[43m        \u001b[49m\u001b[38;5;28;43mself\u001b[39;49m\u001b[38;5;241;43m.\u001b[39;49m\u001b[43mbootstrap\u001b[49m\u001b[43m,\u001b[49m\n\u001b[1;32m    497\u001b[0m \u001b[43m        \u001b[49m\u001b[43mX\u001b[49m\u001b[43m,\u001b[49m\n\u001b[1;32m    498\u001b[0m \u001b[43m        \u001b[49m\u001b[43my\u001b[49m\u001b[43m,\u001b[49m\n\u001b[1;32m    499\u001b[0m \u001b[43m        \u001b[49m\u001b[43msample_weight\u001b[49m\u001b[43m,\u001b[49m\n\u001b[1;32m    500\u001b[0m \u001b[43m        \u001b[49m\u001b[43mi\u001b[49m\u001b[43m,\u001b[49m\n\u001b[1;32m    501\u001b[0m \u001b[43m        \u001b[49m\u001b[38;5;28;43mlen\u001b[39;49m\u001b[43m(\u001b[49m\u001b[43mtrees\u001b[49m\u001b[43m)\u001b[49m\u001b[43m,\u001b[49m\n\u001b[1;32m    502\u001b[0m \u001b[43m        \u001b[49m\u001b[43mverbose\u001b[49m\u001b[38;5;241;43m=\u001b[39;49m\u001b[38;5;28;43mself\u001b[39;49m\u001b[38;5;241;43m.\u001b[39;49m\u001b[43mverbose\u001b[49m\u001b[43m,\u001b[49m\n\u001b[1;32m    503\u001b[0m \u001b[43m        \u001b[49m\u001b[43mclass_weight\u001b[49m\u001b[38;5;241;43m=\u001b[39;49m\u001b[38;5;28;43mself\u001b[39;49m\u001b[38;5;241;43m.\u001b[39;49m\u001b[43mclass_weight\u001b[49m\u001b[43m,\u001b[49m\n\u001b[1;32m    504\u001b[0m \u001b[43m        \u001b[49m\u001b[43mn_samples_bootstrap\u001b[49m\u001b[38;5;241;43m=\u001b[39;49m\u001b[43mn_samples_bootstrap\u001b[49m\u001b[43m,\u001b[49m\n\u001b[1;32m    505\u001b[0m \u001b[43m        \u001b[49m\u001b[43mmissing_values_in_feature_mask\u001b[49m\u001b[38;5;241;43m=\u001b[39;49m\u001b[43mmissing_values_in_feature_mask\u001b[49m\u001b[43m,\u001b[49m\n\u001b[1;32m    506\u001b[0m \u001b[43m    \u001b[49m\u001b[43m)\u001b[49m\n\u001b[1;32m    507\u001b[0m \u001b[43m    \u001b[49m\u001b[38;5;28;43;01mfor\u001b[39;49;00m\u001b[43m \u001b[49m\u001b[43mi\u001b[49m\u001b[43m,\u001b[49m\u001b[43m \u001b[49m\u001b[43mt\u001b[49m\u001b[43m \u001b[49m\u001b[38;5;129;43;01min\u001b[39;49;00m\u001b[43m \u001b[49m\u001b[38;5;28;43menumerate\u001b[39;49m\u001b[43m(\u001b[49m\u001b[43mtrees\u001b[49m\u001b[43m)\u001b[49m\n\u001b[1;32m    508\u001b[0m \u001b[43m\u001b[49m\u001b[43m)\u001b[49m\n\u001b[1;32m    510\u001b[0m \u001b[38;5;66;03m# Collect newly grown trees\u001b[39;00m\n\u001b[1;32m    511\u001b[0m \u001b[38;5;28mself\u001b[39m\u001b[38;5;241m.\u001b[39mestimators_\u001b[38;5;241m.\u001b[39mextend(trees)\n",
      "File \u001b[0;32m~/Desktop/paml-final-project/.venv/lib/python3.11/site-packages/sklearn/utils/parallel.py:67\u001b[0m, in \u001b[0;36mParallel.__call__\u001b[0;34m(self, iterable)\u001b[0m\n\u001b[1;32m     62\u001b[0m config \u001b[38;5;241m=\u001b[39m get_config()\n\u001b[1;32m     63\u001b[0m iterable_with_config \u001b[38;5;241m=\u001b[39m (\n\u001b[1;32m     64\u001b[0m     (_with_config(delayed_func, config), args, kwargs)\n\u001b[1;32m     65\u001b[0m     \u001b[38;5;28;01mfor\u001b[39;00m delayed_func, args, kwargs \u001b[38;5;129;01min\u001b[39;00m iterable\n\u001b[1;32m     66\u001b[0m )\n\u001b[0;32m---> 67\u001b[0m \u001b[38;5;28;01mreturn\u001b[39;00m \u001b[38;5;28;43msuper\u001b[39;49m\u001b[43m(\u001b[49m\u001b[43m)\u001b[49m\u001b[38;5;241;43m.\u001b[39;49m\u001b[38;5;21;43m__call__\u001b[39;49m\u001b[43m(\u001b[49m\u001b[43miterable_with_config\u001b[49m\u001b[43m)\u001b[49m\n",
      "File \u001b[0;32m~/Desktop/paml-final-project/.venv/lib/python3.11/site-packages/joblib/parallel.py:1918\u001b[0m, in \u001b[0;36mParallel.__call__\u001b[0;34m(self, iterable)\u001b[0m\n\u001b[1;32m   1916\u001b[0m     output \u001b[38;5;241m=\u001b[39m \u001b[38;5;28mself\u001b[39m\u001b[38;5;241m.\u001b[39m_get_sequential_output(iterable)\n\u001b[1;32m   1917\u001b[0m     \u001b[38;5;28mnext\u001b[39m(output)\n\u001b[0;32m-> 1918\u001b[0m     \u001b[38;5;28;01mreturn\u001b[39;00m output \u001b[38;5;28;01mif\u001b[39;00m \u001b[38;5;28mself\u001b[39m\u001b[38;5;241m.\u001b[39mreturn_generator \u001b[38;5;28;01melse\u001b[39;00m \u001b[38;5;28;43mlist\u001b[39;49m\u001b[43m(\u001b[49m\u001b[43moutput\u001b[49m\u001b[43m)\u001b[49m\n\u001b[1;32m   1920\u001b[0m \u001b[38;5;66;03m# Let's create an ID that uniquely identifies the current call. If the\u001b[39;00m\n\u001b[1;32m   1921\u001b[0m \u001b[38;5;66;03m# call is interrupted early and that the same instance is immediately\u001b[39;00m\n\u001b[1;32m   1922\u001b[0m \u001b[38;5;66;03m# re-used, this id will be used to prevent workers that were\u001b[39;00m\n\u001b[1;32m   1923\u001b[0m \u001b[38;5;66;03m# concurrently finalizing a task from the previous call to run the\u001b[39;00m\n\u001b[1;32m   1924\u001b[0m \u001b[38;5;66;03m# callback.\u001b[39;00m\n\u001b[1;32m   1925\u001b[0m \u001b[38;5;28;01mwith\u001b[39;00m \u001b[38;5;28mself\u001b[39m\u001b[38;5;241m.\u001b[39m_lock:\n",
      "File \u001b[0;32m~/Desktop/paml-final-project/.venv/lib/python3.11/site-packages/joblib/parallel.py:1847\u001b[0m, in \u001b[0;36mParallel._get_sequential_output\u001b[0;34m(self, iterable)\u001b[0m\n\u001b[1;32m   1845\u001b[0m \u001b[38;5;28mself\u001b[39m\u001b[38;5;241m.\u001b[39mn_dispatched_batches \u001b[38;5;241m+\u001b[39m\u001b[38;5;241m=\u001b[39m \u001b[38;5;241m1\u001b[39m\n\u001b[1;32m   1846\u001b[0m \u001b[38;5;28mself\u001b[39m\u001b[38;5;241m.\u001b[39mn_dispatched_tasks \u001b[38;5;241m+\u001b[39m\u001b[38;5;241m=\u001b[39m \u001b[38;5;241m1\u001b[39m\n\u001b[0;32m-> 1847\u001b[0m res \u001b[38;5;241m=\u001b[39m \u001b[43mfunc\u001b[49m\u001b[43m(\u001b[49m\u001b[38;5;241;43m*\u001b[39;49m\u001b[43margs\u001b[49m\u001b[43m,\u001b[49m\u001b[43m \u001b[49m\u001b[38;5;241;43m*\u001b[39;49m\u001b[38;5;241;43m*\u001b[39;49m\u001b[43mkwargs\u001b[49m\u001b[43m)\u001b[49m\n\u001b[1;32m   1848\u001b[0m \u001b[38;5;28mself\u001b[39m\u001b[38;5;241m.\u001b[39mn_completed_tasks \u001b[38;5;241m+\u001b[39m\u001b[38;5;241m=\u001b[39m \u001b[38;5;241m1\u001b[39m\n\u001b[1;32m   1849\u001b[0m \u001b[38;5;28mself\u001b[39m\u001b[38;5;241m.\u001b[39mprint_progress()\n",
      "File \u001b[0;32m~/Desktop/paml-final-project/.venv/lib/python3.11/site-packages/sklearn/utils/parallel.py:129\u001b[0m, in \u001b[0;36m_FuncWrapper.__call__\u001b[0;34m(self, *args, **kwargs)\u001b[0m\n\u001b[1;32m    127\u001b[0m     config \u001b[38;5;241m=\u001b[39m {}\n\u001b[1;32m    128\u001b[0m \u001b[38;5;28;01mwith\u001b[39;00m config_context(\u001b[38;5;241m*\u001b[39m\u001b[38;5;241m*\u001b[39mconfig):\n\u001b[0;32m--> 129\u001b[0m     \u001b[38;5;28;01mreturn\u001b[39;00m \u001b[38;5;28;43mself\u001b[39;49m\u001b[38;5;241;43m.\u001b[39;49m\u001b[43mfunction\u001b[49m\u001b[43m(\u001b[49m\u001b[38;5;241;43m*\u001b[39;49m\u001b[43margs\u001b[49m\u001b[43m,\u001b[49m\u001b[43m \u001b[49m\u001b[38;5;241;43m*\u001b[39;49m\u001b[38;5;241;43m*\u001b[39;49m\u001b[43mkwargs\u001b[49m\u001b[43m)\u001b[49m\n",
      "File \u001b[0;32m~/Desktop/paml-final-project/.venv/lib/python3.11/site-packages/sklearn/ensemble/_forest.py:192\u001b[0m, in \u001b[0;36m_parallel_build_trees\u001b[0;34m(tree, bootstrap, X, y, sample_weight, tree_idx, n_trees, verbose, class_weight, n_samples_bootstrap, missing_values_in_feature_mask)\u001b[0m\n\u001b[1;32m    189\u001b[0m     \u001b[38;5;28;01melif\u001b[39;00m class_weight \u001b[38;5;241m==\u001b[39m \u001b[38;5;124m\"\u001b[39m\u001b[38;5;124mbalanced_subsample\u001b[39m\u001b[38;5;124m\"\u001b[39m:\n\u001b[1;32m    190\u001b[0m         curr_sample_weight \u001b[38;5;241m*\u001b[39m\u001b[38;5;241m=\u001b[39m compute_sample_weight(\u001b[38;5;124m\"\u001b[39m\u001b[38;5;124mbalanced\u001b[39m\u001b[38;5;124m\"\u001b[39m, y, indices\u001b[38;5;241m=\u001b[39mindices)\n\u001b[0;32m--> 192\u001b[0m     \u001b[43mtree\u001b[49m\u001b[38;5;241;43m.\u001b[39;49m\u001b[43m_fit\u001b[49m\u001b[43m(\u001b[49m\n\u001b[1;32m    193\u001b[0m \u001b[43m        \u001b[49m\u001b[43mX\u001b[49m\u001b[43m,\u001b[49m\n\u001b[1;32m    194\u001b[0m \u001b[43m        \u001b[49m\u001b[43my\u001b[49m\u001b[43m,\u001b[49m\n\u001b[1;32m    195\u001b[0m \u001b[43m        \u001b[49m\u001b[43msample_weight\u001b[49m\u001b[38;5;241;43m=\u001b[39;49m\u001b[43mcurr_sample_weight\u001b[49m\u001b[43m,\u001b[49m\n\u001b[1;32m    196\u001b[0m \u001b[43m        \u001b[49m\u001b[43mcheck_input\u001b[49m\u001b[38;5;241;43m=\u001b[39;49m\u001b[38;5;28;43;01mFalse\u001b[39;49;00m\u001b[43m,\u001b[49m\n\u001b[1;32m    197\u001b[0m \u001b[43m        \u001b[49m\u001b[43mmissing_values_in_feature_mask\u001b[49m\u001b[38;5;241;43m=\u001b[39;49m\u001b[43mmissing_values_in_feature_mask\u001b[49m\u001b[43m,\u001b[49m\n\u001b[1;32m    198\u001b[0m \u001b[43m    \u001b[49m\u001b[43m)\u001b[49m\n\u001b[1;32m    199\u001b[0m \u001b[38;5;28;01melse\u001b[39;00m:\n\u001b[1;32m    200\u001b[0m     tree\u001b[38;5;241m.\u001b[39m_fit(\n\u001b[1;32m    201\u001b[0m         X,\n\u001b[1;32m    202\u001b[0m         y,\n\u001b[0;32m   (...)\u001b[0m\n\u001b[1;32m    205\u001b[0m         missing_values_in_feature_mask\u001b[38;5;241m=\u001b[39mmissing_values_in_feature_mask,\n\u001b[1;32m    206\u001b[0m     )\n",
      "File \u001b[0;32m~/Desktop/paml-final-project/.venv/lib/python3.11/site-packages/sklearn/tree/_classes.py:472\u001b[0m, in \u001b[0;36mBaseDecisionTree._fit\u001b[0;34m(self, X, y, sample_weight, check_input, missing_values_in_feature_mask)\u001b[0m\n\u001b[1;32m    461\u001b[0m \u001b[38;5;28;01melse\u001b[39;00m:\n\u001b[1;32m    462\u001b[0m     builder \u001b[38;5;241m=\u001b[39m BestFirstTreeBuilder(\n\u001b[1;32m    463\u001b[0m         splitter,\n\u001b[1;32m    464\u001b[0m         min_samples_split,\n\u001b[0;32m   (...)\u001b[0m\n\u001b[1;32m    469\u001b[0m         \u001b[38;5;28mself\u001b[39m\u001b[38;5;241m.\u001b[39mmin_impurity_decrease,\n\u001b[1;32m    470\u001b[0m     )\n\u001b[0;32m--> 472\u001b[0m \u001b[43mbuilder\u001b[49m\u001b[38;5;241;43m.\u001b[39;49m\u001b[43mbuild\u001b[49m\u001b[43m(\u001b[49m\u001b[38;5;28;43mself\u001b[39;49m\u001b[38;5;241;43m.\u001b[39;49m\u001b[43mtree_\u001b[49m\u001b[43m,\u001b[49m\u001b[43m \u001b[49m\u001b[43mX\u001b[49m\u001b[43m,\u001b[49m\u001b[43m \u001b[49m\u001b[43my\u001b[49m\u001b[43m,\u001b[49m\u001b[43m \u001b[49m\u001b[43msample_weight\u001b[49m\u001b[43m,\u001b[49m\u001b[43m \u001b[49m\u001b[43mmissing_values_in_feature_mask\u001b[49m\u001b[43m)\u001b[49m\n\u001b[1;32m    474\u001b[0m \u001b[38;5;28;01mif\u001b[39;00m \u001b[38;5;28mself\u001b[39m\u001b[38;5;241m.\u001b[39mn_outputs_ \u001b[38;5;241m==\u001b[39m \u001b[38;5;241m1\u001b[39m \u001b[38;5;129;01mand\u001b[39;00m is_classifier(\u001b[38;5;28mself\u001b[39m):\n\u001b[1;32m    475\u001b[0m     \u001b[38;5;28mself\u001b[39m\u001b[38;5;241m.\u001b[39mn_classes_ \u001b[38;5;241m=\u001b[39m \u001b[38;5;28mself\u001b[39m\u001b[38;5;241m.\u001b[39mn_classes_[\u001b[38;5;241m0\u001b[39m]\n",
      "\u001b[0;31mKeyboardInterrupt\u001b[0m: "
     ]
    }
   ],
   "source": [
    "rf = RandomForestClassifier(n_estimators=100)\n",
    "rf.fit(X_train, y_train)\n",
    "rf_pred=rf.predict(X_test)"
   ]
  },
  {
   "cell_type": "code",
   "execution_count": null,
   "metadata": {},
   "outputs": [
    {
     "name": "stdout",
     "output_type": "stream",
     "text": [
      "[Random Forest] accuracy_score: 0.814.\n"
     ]
    }
   ],
   "source": [
    "rf_acc=get_accuracy(rf_pred, y_test)\n",
    "print(\"[Random Forest] accuracy_score: {:.3f}.\".format(rf_acc))"
   ]
  },
  {
   "cell_type": "code",
   "execution_count": null,
   "metadata": {},
   "outputs": [
    {
     "data": {
      "text/plain": [
       "['../models/random_forest_model.pkl']"
      ]
     },
     "execution_count": 17,
     "metadata": {},
     "output_type": "execute_result"
    }
   ],
   "source": [
    "joblib.dump(rf, '../models/random_forest_model.pkl')"
   ]
  },
  {
   "cell_type": "code",
   "execution_count": 89,
   "metadata": {},
   "outputs": [
    {
     "data": {
      "image/png": "[encoded data removed]",
      "text/plain": [
       "<Figure size 640x480 with 1 Axes>"
      ]
     },
     "metadata": {},
     "output_type": "display_data"
    }
   ],
   "source": [
    "feature_imp = pd.Series(rf.feature_importances_,index=X.columns).sort_values(ascending=False)\n",
    "\n",
    "k=10\n",
    "sns.barplot(x=feature_imp[:10], y=feature_imp.index[:k])\n",
    "plt.xlabel('Feature Importance Score')\n",
    "plt.ylabel('Features')\n",
    "plt.title(\"Visualizing Important Features\")\n",
    "plt.show()"
   ]
  },
  {
   "cell_type": "markdown",
   "metadata": {},
   "source": [
    "# Decision Tree"
   ]
  },
  {
   "cell_type": "code",
   "execution_count": 11,
   "metadata": {},
   "outputs": [
    {
     "name": "stdout",
     "output_type": "stream",
     "text": [
      "[Decision Tree algorithm] accuracy_score: 0.510\n"
     ]
    }
   ],
   "source": [
    "dt = DecisionTree(max_depth=10)\n",
    "dt.fit(X_train.values, y_train.values)\n",
    "y_pred_dt = dt.predict(X_test.values)\n",
    "\n",
    "acc_dt = get_accuracy(y_pred_dt, y_test.values)\n",
    "print(\"[Decision Tree algorithm] accuracy_score: {:.3f}\".format(acc_dt))"
   ]
  },
  {
   "cell_type": "code",
   "execution_count": 12,
   "metadata": {},
   "outputs": [
    {
     "data": {
      "text/plain": [
       "['../models/decision_tree_model.pkl']"
      ]
     },
     "execution_count": 12,
     "metadata": {},
     "output_type": "execute_result"
    }
   ],
   "source": [
    "joblib.dump(dt, '../models/decision_tree_model.pkl')"
   ]
  },
  {
   "cell_type": "markdown",
   "metadata": {},
   "source": [
    "# Naive Bayes"
   ]
  },
  {
   "cell_type": "code",
   "execution_count": 22,
   "metadata": {},
   "outputs": [
    {
     "name": "stdout",
     "output_type": "stream",
     "text": [
      "[Naive Bayes] accuracy_score: 0.410.\n"
     ]
    }
   ],
   "source": [
    "X_train = X_train.astype(np.float32)\n",
    "X_test = X_test.astype(np.float32)\n",
    "\n",
    "nb = GaussianNB()\n",
    "nb.fit(X_train, y_train)\n",
    "\n",
    "nb_pred = nb.predict(X_test)\n",
    "nb_acc = (nb_pred == y_test).mean()  \n",
    "print(\"[Naive Bayes] accuracy_score: {:.3f}.\".format(nb_acc))\n"
   ]
  },
  {
   "cell_type": "code",
   "execution_count": 23,
   "metadata": {},
   "outputs": [
    {
     "data": {
      "text/plain": [
       "['../models/naive_bayes_model.pkl']"
      ]
     },
     "execution_count": 23,
     "metadata": {},
     "output_type": "execute_result"
    }
   ],
   "source": [
    "joblib.dump(nb, '../models/naive_bayes_model.pkl')\n",
    "\n",
    "# nb_model = joblib.load('../models/naive_bayes_model.pkl')\n",
    "# y_pred_nb = nb_model.predict(X_test)"
   ]
  }
 ],
 "metadata": {
  "kernelspec": {
   "display_name": "rapids-24.04",
   "language": "python",
   "name": "python3"
  },
  "language_info": {
   "codemirror_mode": {
    "name": "ipython",
    "version": 3
   },
   "file_extension": ".py",
   "mimetype": "text/x-python",
   "name": "python",
   "nbconvert_exporter": "python",
   "pygments_lexer": "ipython3",
   "version": "3.11.4"
  }
 },
 "nbformat": 4,
 "nbformat_minor": 2
}
